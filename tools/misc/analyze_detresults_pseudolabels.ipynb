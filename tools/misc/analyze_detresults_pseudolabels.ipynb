{
 "cells": [
  {
   "cell_type": "code",
   "execution_count": 1,
   "metadata": {},
   "outputs": [],
   "source": [
    "import pickle as pkl    \n",
    "import os\n",
    "from pcdet.ops.iou3d_nms import iou3d_nms_utils\n",
    "import tqdm\n",
    "\n",
    "import matplotlib.pyplot as plt\n",
    "import numpy as np\n",
    "import pandas as pd\n",
    "from scipy import stats\n",
    "import seaborn as sns\n",
    "\n",
    "import torch\n",
    "os.chdir('/home/cgriesbacher/thesis/3DTrans/')"
   ]
  },
  {
   "cell_type": "markdown",
   "metadata": {},
   "source": [
    "### Init functions"
   ]
  },
  {
   "cell_type": "code",
   "execution_count": 2,
   "metadata": {},
   "outputs": [],
   "source": [
    "def calc_ious(pseudo_labels, gt_labels):\n",
    "    #add iou score to the dataframe, default is 0\n",
    "    pseudo_labels['iou'] = 0\n",
    "    pseudo_labels['true_label'] = \"Background\"\n",
    "    gt_labels['iou'] = 0\n",
    "\n",
    "    #det detection frame ids\n",
    "    ps_frame_ids = pseudo_labels['frame_id'].unique()\n",
    "\n",
    "    # Loop over all frames\n",
    "    for ps_frame_id in tqdm.tqdm(ps_frame_ids):\n",
    "\n",
    "        gt_labels_frame = gt_labels[gt_labels['frame_id'] == ps_frame_id]\n",
    "        pseudo_labels_frame = pseudo_labels[pseudo_labels['frame_id'] == ps_frame_id]\n",
    "\n",
    "        if len(gt_labels_frame) == 0 or len(pseudo_labels_frame) == 0:\n",
    "            print(f\"Frame {ps_frame_id} has no gts or no detections\")\n",
    "            continue\n",
    "\n",
    "        # Convert the boxes to numpy\n",
    "        gt_boxes_frame = np.stack(gt_labels_frame[\"gt_boxes_lidar\"].values)\n",
    "        ps_boxes_frame = np.stack(pseudo_labels_frame[\"boxes_lidar\"].values)\n",
    "\n",
    "        #iou_matrix = iou3d_nms_utils.boxes_iou3d_gpu(torch.tensor(gt_boxes_frame, dtype=torch.float, device='cuda'), torch.tensor(ps_boxes_frame, dtype=torch.float, device='cuda')).cpu().numpy()\n",
    "        iou_matrix = iou3d_nms_utils.boxes_iou_bev(torch.tensor(gt_boxes_frame, dtype=torch.float, device='cuda'), torch.tensor(ps_boxes_frame, dtype=torch.float, device='cuda')).cpu().numpy()\n",
    "        #iou_matrix = iou3d_nms_utils.boxes_bev_iou_cpu(gt_boxes_frame, ps_boxes_frame)\n",
    "        \n",
    "        # Get the max iou for each det box\n",
    "        max_ious_ps = np.max(iou_matrix, axis=0)\n",
    "        max_ious_ps_idx = np.argmax(iou_matrix, axis=0)\n",
    "\n",
    "        # get class for each detection\n",
    "        cls_dets = gt_labels_frame['names'].values[max_ious_ps_idx]\n",
    "        \n",
    "        # Update the iou score for each detection in the original DataFrame\n",
    "        pseudo_labels.loc[pseudo_labels_frame.index, 'iou'] = max_ious_ps\n",
    "        pseudo_labels.loc[pseudo_labels_frame.index, 'true_label'] = cls_dets\n",
    "        # print(f\"Percentage of detection ious greater than 0: {round(len(max_ious_ps[max_ious_ps > 0])/len(max_ious_ps),2)}\")\n",
    "\n",
    "        # Get max_iou for each gt box\n",
    "        max_ious_gts = np.max(iou_matrix, axis=1)\n",
    "\n",
    "        # Update the iou score for each gt in the original DataFrame\n",
    "        gt_labels.loc[gt_labels_frame.index, 'iou'] = max_ious_gts\n",
    "        #percentage of ious that are greater than 0\n",
    "        # print(f\"Percentage of gt ious greater than 0: {round(len(max_ious_gts[max_ious_gts > 0])/len(max_ious_gts),2)}\")\n",
    "\n",
    "        # XXX: only update if score is higher than current score\n",
    "\n",
    "\n",
    "    iou_thresholds = [0.1, 0.3, 0.5, 0.7]\n",
    "\n",
    "    #for each detection, add detected_0.3, detected_0.5, detected_0.7\n",
    "    for iou_threshold in iou_thresholds:\n",
    "        pseudo_labels[f'detected_{iou_threshold}'] = pseudo_labels['iou'] >= iou_threshold\n",
    "        gt_labels[f'detected_{iou_threshold}'] = gt_labels['iou'] >= iou_threshold\n",
    "\n",
    "    return pseudo_labels, gt_labels\n",
    "\n",
    "def load_detections(path, df):\n",
    "    with open(path, 'rb') as f:\n",
    "        dets = pkl.load(f)\n",
    "\n",
    "    #make a dataframe\n",
    "    df_dets_dataset = pd.DataFrame(dets)\n",
    "    \n",
    "    #get datasset name from path\n",
    "    eval_dataset = path.split('/')[-2]\n",
    "    train_dataset = path.split('/')[-8].split('_')[0]\n",
    "\n",
    "\n",
    "    #add a column with the dataset name\n",
    "    df_dets_dataset['eval_dataset'] = eval_dataset\n",
    "    df_dets_dataset['train_dataset'] = train_dataset\n",
    "\n",
    "    cols_to_explode = ['name', 'score', 'boxes_lidar', 'pred_labels', 'train_dataset', 'eval_dataset', 'frame_id']\n",
    "    exploded_list = [df_dets_dataset[col].explode() for col in cols_to_explode]\n",
    "    exploded_df = pd.concat(exploded_list, axis=1)\n",
    "\n",
    "    # Adding non-exploded columns\n",
    "    for col in df_dets_dataset.columns:\n",
    "        if col not in cols_to_explode:\n",
    "            exploded_df[col] = df[col].values[0]\n",
    "\n",
    "    # Reset index if needed\n",
    "    df_det_expl = exploded_df.reset_index(drop=True)\n",
    "\n",
    "    df_det_expl = df_det_expl.dropna()\n",
    "\n",
    "    df_new = pd.concat([df, df_det_expl], axis=0)\n",
    "    df_new = df_new.reset_index(drop=True)\n",
    "\n",
    "    print(\"loaded {} detections on dataset {} with model trained on {}\".format(len(df_det_expl), eval_dataset, train_dataset))\n",
    "\n",
    "    return df_new.copy()\n",
    "\n",
    "\n",
    "def load_gt_labels(split):\n",
    "\n",
    "    assert split in ['train', 'val']\n",
    "    dataset_names = [\"avltruck\", \"avlrooftop\", \"zod\"]\n",
    "\n",
    "    #annotation paths\n",
    "    annotation_path_avltruck = \"/home/cgriesbacher/thesis/3DTrans/data/avltruck/avl_infos_\"+split+\".pkl\"\n",
    "    annotation_path_avlrooftop = \"/home/cgriesbacher/thesis/3DTrans/data/avlrooftop/avl_infos_\"+split+\".pkl\"\n",
    "    annotation_path_zod = \"/home/cgriesbacher/thesis/3DTrans/data/zod/zod_infos_\"+split+\"_full.pkl\"\n",
    "\n",
    "    #load the annotations and make a dataframe\n",
    "    with open(annotation_path_avltruck, 'rb') as f:\n",
    "        annotations_avltruck = pkl.load(f)\n",
    "    with open(annotation_path_avlrooftop, 'rb') as f:\n",
    "        annotations_avlrooftop = pkl.load(f)\n",
    "    with open(annotation_path_zod, 'rb') as f:\n",
    "        annotations_zod = pkl.load(f)\n",
    "\n",
    "    avltruck_content = []\n",
    "    for i in range(len(annotations_avltruck)):\n",
    "        content = {}\n",
    "        content[\"names\"] = annotations_avltruck[i][\"annos\"]['name']\n",
    "        content[\"gt_boxes_lidar\"] = annotations_avltruck[i][\"annos\"]['gt_boxes_lidar']\n",
    "        content['dataset'] = dataset_names[0]\n",
    "        content['frame_id'] = annotations_avltruck[i][\"point_cloud\"]['lidar_idx']\n",
    "        avltruck_content.append(content)\n",
    "\n",
    "    avlrooftop_content = []\n",
    "    for i in range(len(annotations_avlrooftop)):\n",
    "        content = {}\n",
    "        content[\"names\"] = annotations_avlrooftop[i][\"annos\"]['name']\n",
    "        content[\"gt_boxes_lidar\"] = annotations_avlrooftop[i][\"annos\"]['gt_boxes_lidar']\n",
    "        content['dataset'] = dataset_names[1]\n",
    "        content['frame_id'] = annotations_avlrooftop[i][\"point_cloud\"]['lidar_idx']\n",
    "        avlrooftop_content.append(content)\n",
    "\n",
    "    zod_content = []\n",
    "    for i in range(len(annotations_zod)):\n",
    "        content = {}\n",
    "        content[\"names\"] = annotations_zod[i][\"annos\"]['name']\n",
    "        content[\"gt_boxes_lidar\"] = annotations_zod[i][\"annos\"]['gt_boxes_lidar']\n",
    "        content['dataset'] = dataset_names[2]\n",
    "        content['frame_id'] = annotations_zod[i][\"point_cloud\"]['lidar_idx']\n",
    "        zod_content.append(content)\n",
    "\n",
    "    #make a dataframe\n",
    "    df_avltruck_annos = pd.DataFrame(avltruck_content)\n",
    "    df_avlrooftop_annos = pd.DataFrame(avlrooftop_content)\n",
    "    df_zod_annos = pd.DataFrame(zod_content)\n",
    "\n",
    "    #make a dataframe with all results\n",
    "    df_annos_full = pd.concat([df_avltruck_annos, df_avlrooftop_annos, df_zod_annos], axis=0) \n",
    "    df_annos_full = df_annos_full.reset_index(drop=True)\n",
    "\n",
    "    #explode the lists\n",
    "    cols_to_explode = ['names', 'gt_boxes_lidar', 'dataset', 'frame_id']\n",
    "    df_annos_lists = [df_annos_full[col].explode() for col in cols_to_explode]\n",
    "    df_annos_full = pd.concat(df_annos_lists, axis=1)\n",
    "\n",
    "    prev_len = len(df_annos_full)\n",
    "    df_annos_full.dropna(inplace=True)\n",
    "    print(f\"Dropped {prev_len - len(df_annos_full)} rows with NaNs\")\n",
    "\n",
    "\n",
    "    namemap_avltruck = {\n",
    "        \"Vehicle_Drivable_Car\": \"Vehicle\",\n",
    "        \"Vehicle_Drivable_Van\": \"Vehicle\",\n",
    "        \"Vehicle_Ridable_Motorcycle\": \"Cyclist\",\n",
    "        \"Vehicle_Ridable_Bicycle\": \"Cyclist\",\n",
    "        \"Human\": \"Pedestrian\",\n",
    "        \"LargeVehicle_Bus\": \"Truck\",\n",
    "        \"LargeVehicle_TruckCab\": \"Truck\",\n",
    "        \"LargeVehicle_Truck\": \"Truck\",\n",
    "        \"Trailer\": \"Truck\",\n",
    "        \"Dont_Care\": \"DontCare\",\n",
    "        \"Other\": \"DontCare\",\n",
    "        #'Placeholder': 'DontCare',\n",
    "    }\n",
    "\n",
    "    namemap_avlrooftop =  {\n",
    "        \"Vehicle_Drivable_Car\": \"Vehicle\",\n",
    "        \"Vehicle_Drivable_Van\": \"Vehicle\",\n",
    "        \"LargeVehicle_Truck\": \"Truck\",\n",
    "        \"LargeVehicle_TruckCab\": \"Truck\",\n",
    "        \"LargeVehicle_Bus\": \"Truck\",\n",
    "        \"LargeVehicle_Bus_Bendy\": \"Truck\",\n",
    "        \"Trailer\": \"Truck\",\n",
    "        \"Vehicle_Ridable_Motorcycle\": \"Cyclist\",\n",
    "        \"Vehicle_Ridable_Bicycle\": \"Cyclist\",\n",
    "        \"Human\": \"Pedestrian\",\n",
    "        \"PPObject\": \"DontCare\",\n",
    "        \"PPObject_Stroller\": \"DontCare\",\n",
    "        \"Dont_care\": \"DontCare\",\n",
    "        #'Placeholder': 'DontCare',\n",
    "    }\n",
    "\n",
    "    namemap_zod = {\n",
    "        \"Vehicle_Car\": \"Vehicle\",\n",
    "        \"Vehicle_Van\": \"Vehicle\",\n",
    "        \"Vehicle_Truck\": \"Truck\",\n",
    "        \"Vehicle_Trailer\": \"Truck\",\n",
    "        \"Vehicle_Bus\": \"Truck\",\n",
    "        \"Vehicle_HeavyEquip\": \"Truck\",\n",
    "        \"Vehicle_TramTrain\": \"Truck\",\n",
    "        \"VulnerableVehicle_Motorcycle\": \"Cyclist\",\n",
    "        \"VulnerableVehicle_Bicycle\": \"Cyclist\",\n",
    "        \"Pedestrian\": \"Pedestrian\",\n",
    "        #'Placeholder': 'DontCare',\n",
    "    }\n",
    "\n",
    "    #apply name maps for all data of each dataset\n",
    "    df_annos_full['names'] = df_annos_full['names'].apply(lambda x: namemap_avltruck[x] if x in namemap_avltruck.keys() else x)\n",
    "    df_annos_full['names'] = df_annos_full['names'].apply(lambda x: namemap_avlrooftop[x] if x in namemap_avlrooftop.keys() else x)\n",
    "    df_annos_full['names'] = df_annos_full['names'].apply(lambda x: namemap_zod[x] if x in namemap_zod.keys() else x)\n",
    "\n",
    "    #drop all dont cares\n",
    "    df_annos_full = df_annos_full[df_annos_full['names'] != 'DontCare']\n",
    "\n",
    "    return df_annos_full\n",
    "\n",
    "def plot_confusion_matrix(pseudo_labels, gt_labels, iou_threshold, epochs, pseudo_labels_folder_path=None, show_plot=True, do_print=False):\n",
    "    if do_print:\n",
    "        #print number of detections\n",
    "        print(f\"Number of detections: {len(pseudo_labels)}\")\n",
    "        #num dets per frame\n",
    "        print(f\"Number of detections per frame: {round(len(pseudo_labels)/len(pseudo_labels['frame_id'].unique()),2)}\")\n",
    "\n",
    "        #num gt\n",
    "        print(f\"Number of gt: {len(gt_labels)}\")\n",
    "        #num gt per frame\n",
    "        print(f\"Number of gt per frame: {round(len(gt_labels)/len(gt_labels['frame_id'].unique()),2)}\")\n",
    "\n",
    "        print()\n",
    "\n",
    "\n",
    "    #detected as _ true label\n",
    "    pseudo_labels_vehicles = pseudo_labels[pseudo_labels['name'] == 'Vehicle']\n",
    "    vehicles_vehicle = len(pseudo_labels_vehicles[(pseudo_labels_vehicles[f'detected_{iou_threshold}'] == True) & (pseudo_labels_vehicles['true_label'] == 'Vehicle')])\n",
    "    vehicles_other = len(pseudo_labels_vehicles[(pseudo_labels_vehicles[f'detected_{iou_threshold}'] == True) & (pseudo_labels_vehicles['true_label'] == 'Other')])\n",
    "    vehicles_background = len(pseudo_labels_vehicles[(pseudo_labels_vehicles[f'detected_{iou_threshold}'] == False)])\n",
    "\n",
    "    pseudo_labels_other = pseudo_labels[pseudo_labels['name'] == 'Other']\n",
    "    other_vehicle = len(pseudo_labels_other[(pseudo_labels_other[f'detected_{iou_threshold}'] == True) & (pseudo_labels_other['true_label'] == 'Vehicle')])\n",
    "    other_other = len(pseudo_labels_other[(pseudo_labels_other[f'detected_{iou_threshold}'] == True) & (pseudo_labels_other['true_label'] == 'Other')])\n",
    "    other_background = len(pseudo_labels_other[(pseudo_labels_other[f'detected_{iou_threshold}'] == False)])\n",
    "\n",
    "    pseudo_labels_unsure = pseudo_labels[pseudo_labels['name'] == 'Unsure']\n",
    "    unsure_vehicle = len(pseudo_labels_unsure[(pseudo_labels_unsure[f'detected_{iou_threshold}'] == True) & (pseudo_labels_unsure['true_label'] == 'Vehicle')]) \n",
    "    unsure_other = len(pseudo_labels_unsure[(pseudo_labels_unsure[f'detected_{iou_threshold}'] == True) & (pseudo_labels_unsure['true_label'] == 'Other')])\n",
    "    unsure_background = len(pseudo_labels_unsure[(pseudo_labels_unsure[f'detected_{iou_threshold}'] == False)])\n",
    "\n",
    "    background_vehicle = len(gt_labels[(gt_labels[f'detected_{iou_threshold}'] == False) & (gt_labels['names'] == 'Vehicle')])\n",
    "    background_other = len(gt_labels[(gt_labels[f'detected_{iou_threshold}'] == False) & (gt_labels['names'] == 'Other')])\n",
    "\n",
    "    if do_print:\n",
    "        print(\"Detected as vehicle, true label vehicle: \", vehicles_vehicle)\n",
    "        print(\"Detected as vehicle, true label other: \", vehicles_other)\n",
    "        print(\"Detected as vehicle, true label background: \", vehicles_background)\n",
    "        print()\n",
    "        print(\"Detected as other, true label vehicle: \", other_vehicle)\n",
    "        print(\"Detected as other, true label other: \", other_other)\n",
    "        print(\"Detected as other, true label background: \", other_background)\n",
    "        print()\n",
    "        print(\"Detected as unsure, true label vehicle: \", unsure_vehicle)\n",
    "        print(\"Detected as unsure, true label other: \", unsure_other)\n",
    "        print(\"Detected as unsure, true label background: \", unsure_background)\n",
    "\n",
    "#    confusion_matrix = [[0, vehicles_background, other_background, unsure_background],\n",
    "#                        [background_vehicle, vehicles_vehicle, other_vehicle, unsure_vehicle],\n",
    "#                        [background_other, vehicles_other, other_other, unsure_other],\n",
    "#                        [0, 0, 0, 0]]\n",
    "    \n",
    "    confusion_matrix = [[0, vehicles_background, unsure_background],\n",
    "                        [background_vehicle, vehicles_vehicle, unsure_vehicle],\n",
    "                        [0, 0, 0]]\n",
    "    confusion_matrix = np.array(confusion_matrix)\n",
    "\n",
    "    plt.figure(figsize=(10, 5))\n",
    "    plt.title('Confusion matrix epoch'+str(epochs)+' iou'+str(iou_threshold))\n",
    "    sns.heatmap(confusion_matrix, annot=True, cmap='Blues', fmt='g')\n",
    "    plt.xticks(np.arange(3)+0.5, ['Background', 'Vehicle', 'Unsure'])\n",
    "    #plt.xticks(np.arange(4)+0.5, ['Background', 'Vehicle', 'Other', 'Unsure'])\n",
    "    plt.yticks(np.arange(3)+0.5, ['Background', 'Vehicle', 'Unsure'])\n",
    "    #plt.yticks(np.arange(4)+0.5, ['Background', 'Vehicle', 'Other', 'Unsure'])\n",
    "    plt.ylabel('True label')\n",
    "    plt.xlabel('Pseudo label')\n",
    "\n",
    "    if pseudo_labels_folder_path is not None:\n",
    "        #save image to path pseudo_labels_folder_path\n",
    "        plt.savefig(os.path.join(pseudo_labels_folder_path, f\"confusion_matrix_e{epochs}_iou{iou_threshold}.png\"), dpi=300)\n",
    "\n",
    "    if show_plot:\n",
    "        plt.show()"
   ]
  },
  {
   "cell_type": "markdown",
   "metadata": {},
   "source": [
    "### Load gt labels"
   ]
  },
  {
   "cell_type": "code",
   "execution_count": 15,
   "metadata": {},
   "outputs": [
    {
     "name": "stdout",
     "output_type": "stream",
     "text": [
      "Dropped 341 rows with NaNs\n"
     ]
    },
    {
     "data": {
      "text/plain": [
       "zod           147897\n",
       "avltruck      137154\n",
       "avlrooftop     25172\n",
       "Name: dataset, dtype: int64"
      ]
     },
     "execution_count": 15,
     "metadata": {},
     "output_type": "execute_result"
    }
   ],
   "source": [
    "split = \"val\"\n",
    "gt_labels_all = load_gt_labels(split)\n",
    "gt_labels_all[\"dataset\"].value_counts()"
   ]
  },
  {
   "cell_type": "markdown",
   "metadata": {},
   "source": [
    "### Load detections"
   ]
  },
  {
   "cell_type": "code",
   "execution_count": 6,
   "metadata": {},
   "outputs": [
    {
     "name": "stdout",
     "output_type": "stream",
     "text": [
      "loaded 132995 detections on dataset avltruck with model trained on zod\n"
     ]
    },
    {
     "data": {
      "text/html": [
       "<div>\n",
       "<style scoped>\n",
       "    .dataframe tbody tr th:only-of-type {\n",
       "        vertical-align: middle;\n",
       "    }\n",
       "\n",
       "    .dataframe tbody tr th {\n",
       "        vertical-align: top;\n",
       "    }\n",
       "\n",
       "    .dataframe thead th {\n",
       "        text-align: right;\n",
       "    }\n",
       "</style>\n",
       "<table border=\"1\" class=\"dataframe\">\n",
       "  <thead>\n",
       "    <tr style=\"text-align: right;\">\n",
       "      <th></th>\n",
       "      <th>name</th>\n",
       "      <th>score</th>\n",
       "      <th>boxes_lidar</th>\n",
       "      <th>pred_labels</th>\n",
       "      <th>train_dataset</th>\n",
       "      <th>eval_dataset</th>\n",
       "      <th>frame_id</th>\n",
       "    </tr>\n",
       "  </thead>\n",
       "  <tbody>\n",
       "    <tr>\n",
       "      <th>0</th>\n",
       "      <td>Vehicle</td>\n",
       "      <td>0.991589</td>\n",
       "      <td>[16.269287, 3.0509326, 1.171852, 4.2299175, 2....</td>\n",
       "      <td>1</td>\n",
       "      <td>zod</td>\n",
       "      <td>avltruck</td>\n",
       "      <td>sequences/CityStreet_dgt_2021-08-30-15-30-50_0...</td>\n",
       "    </tr>\n",
       "    <tr>\n",
       "      <th>1</th>\n",
       "      <td>Vehicle</td>\n",
       "      <td>0.990591</td>\n",
       "      <td>[22.832241, 7.2744303, 1.345355, 3.6434038, 1....</td>\n",
       "      <td>1</td>\n",
       "      <td>zod</td>\n",
       "      <td>avltruck</td>\n",
       "      <td>sequences/CityStreet_dgt_2021-08-30-15-30-50_0...</td>\n",
       "    </tr>\n",
       "    <tr>\n",
       "      <th>2</th>\n",
       "      <td>Vehicle</td>\n",
       "      <td>0.973633</td>\n",
       "      <td>[33.197536, 6.2114973, 1.5241505, 3.612143, 1....</td>\n",
       "      <td>1</td>\n",
       "      <td>zod</td>\n",
       "      <td>avltruck</td>\n",
       "      <td>sequences/CityStreet_dgt_2021-08-30-15-30-50_0...</td>\n",
       "    </tr>\n",
       "    <tr>\n",
       "      <th>3</th>\n",
       "      <td>Truck</td>\n",
       "      <td>0.85603</td>\n",
       "      <td>[53.75652, 3.8498907, 2.6231477, 5.6090055, 2....</td>\n",
       "      <td>4</td>\n",
       "      <td>zod</td>\n",
       "      <td>avltruck</td>\n",
       "      <td>sequences/CityStreet_dgt_2021-08-30-15-30-50_0...</td>\n",
       "    </tr>\n",
       "    <tr>\n",
       "      <th>4</th>\n",
       "      <td>Truck</td>\n",
       "      <td>0.853343</td>\n",
       "      <td>[0.9458941, 3.254701, 0.77249366, 4.0952053, 1...</td>\n",
       "      <td>4</td>\n",
       "      <td>zod</td>\n",
       "      <td>avltruck</td>\n",
       "      <td>sequences/CityStreet_dgt_2021-08-30-15-30-50_0...</td>\n",
       "    </tr>\n",
       "  </tbody>\n",
       "</table>\n",
       "</div>"
      ],
      "text/plain": [
       "      name     score                                        boxes_lidar  \\\n",
       "0  Vehicle  0.991589  [16.269287, 3.0509326, 1.171852, 4.2299175, 2....   \n",
       "1  Vehicle  0.990591  [22.832241, 7.2744303, 1.345355, 3.6434038, 1....   \n",
       "2  Vehicle  0.973633  [33.197536, 6.2114973, 1.5241505, 3.612143, 1....   \n",
       "3    Truck   0.85603  [53.75652, 3.8498907, 2.6231477, 5.6090055, 2....   \n",
       "4    Truck  0.853343  [0.9458941, 3.254701, 0.77249366, 4.0952053, 1...   \n",
       "\n",
       "  pred_labels train_dataset eval_dataset  \\\n",
       "0           1           zod     avltruck   \n",
       "1           1           zod     avltruck   \n",
       "2           1           zod     avltruck   \n",
       "3           4           zod     avltruck   \n",
       "4           4           zod     avltruck   \n",
       "\n",
       "                                            frame_id  \n",
       "0  sequences/CityStreet_dgt_2021-08-30-15-30-50_0...  \n",
       "1  sequences/CityStreet_dgt_2021-08-30-15-30-50_0...  \n",
       "2  sequences/CityStreet_dgt_2021-08-30-15-30-50_0...  \n",
       "3  sequences/CityStreet_dgt_2021-08-30-15-30-50_0...  \n",
       "4  sequences/CityStreet_dgt_2021-08-30-15-30-50_0...  "
      ]
     },
     "execution_count": 6,
     "metadata": {},
     "output_type": "execute_result"
    }
   ],
   "source": [
    "#init empty dataframe\n",
    "detections_all = pd.DataFrame()\n",
    "\n",
    "#results_path_avltruck = \"/home/cgriesbacher/thesis/3DTrans/output_okeanos/output/avltruck_models/pvrcnnpp_ros/D6_50epochs/eval/epoch_50/val/avltruck/result.pkl\"\n",
    "results_path_avltruck = \"/home/cgriesbacher/thesis/3DTrans/output_okeanos/output/zod_models/pvrcnnpp_ros/D16_50epochs/eval/epoch_50/val/avltruck/result.pkl\"\n",
    "detections_all = load_detections(results_path_avltruck, detections_all)\n",
    "\n",
    "#results_path_avlrooftop = \"/home/cgriesbacher/thesis/3DTrans/output_okeanos/output/avltruck_models/pvrcnnpp_ros/D6_50epochs/eval/epoch_50/val/avlrooftop/result.pkl\"\n",
    "#detections_all = load_detections(results_path_avlrooftop, detections_all)\n",
    "#\n",
    "#results_path_zod = \"/home/cgriesbacher/thesis/3DTrans/output_okeanos/output/avltruck_models/pvrcnnpp_ros/D6_50epochs/eval/epoch_50/val/zod/result.pkl\"\n",
    "#detections_all = load_detections(results_path_zod, detections_all)\n",
    "\n",
    "detections_all.head()"
   ]
  },
  {
   "cell_type": "markdown",
   "metadata": {},
   "source": [
    "### Analyze score over range of one specific dataset"
   ]
  },
  {
   "cell_type": "code",
   "execution_count": 7,
   "metadata": {},
   "outputs": [
    {
     "name": "stderr",
     "output_type": "stream",
     "text": [
      "/tmp/ipykernel_101826/303072175.py:4: SettingWithCopyWarning: \n",
      "A value is trying to be set on a copy of a slice from a DataFrame.\n",
      "Try using .loc[row_indexer,col_indexer] = value instead\n",
      "\n",
      "See the caveats in the documentation: https://pandas.pydata.org/pandas-docs/stable/user_guide/indexing.html#returning-a-view-versus-a-copy\n",
      "  df_det_vehicles['x'] = df_det_vehicles['boxes_lidar'].apply(lambda x: x[0])\n",
      "/tmp/ipykernel_101826/303072175.py:5: SettingWithCopyWarning: \n",
      "A value is trying to be set on a copy of a slice from a DataFrame.\n",
      "Try using .loc[row_indexer,col_indexer] = value instead\n",
      "\n",
      "See the caveats in the documentation: https://pandas.pydata.org/pandas-docs/stable/user_guide/indexing.html#returning-a-view-versus-a-copy\n",
      "  df_det_vehicles['y'] = df_det_vehicles['boxes_lidar'].apply(lambda x: x[1])\n",
      "/tmp/ipykernel_101826/303072175.py:8: SettingWithCopyWarning: \n",
      "A value is trying to be set on a copy of a slice from a DataFrame.\n",
      "Try using .loc[row_indexer,col_indexer] = value instead\n",
      "\n",
      "See the caveats in the documentation: https://pandas.pydata.org/pandas-docs/stable/user_guide/indexing.html#returning-a-view-versus-a-copy\n",
      "  df_det_vehicles['range'] = np.sqrt(df_det_vehicles['x']**2 + df_det_vehicles['y']**2)\n"
     ]
    },
    {
     "data": {
      "image/png": "[encoded data removed]",
      "text/plain": [
       "<Figure size 1000x500 with 1 Axes>"
      ]
     },
     "metadata": {},
     "output_type": "display_data"
    }
   ],
   "source": [
    "df_det_vehicles = detections_all[detections_all['name'] == 'Vehicle']\n",
    "\n",
    "#add x and y\n",
    "df_det_vehicles['x'] = df_det_vehicles['boxes_lidar'].apply(lambda x: x[0])\n",
    "df_det_vehicles['y'] = df_det_vehicles['boxes_lidar'].apply(lambda x: x[1])\n",
    "\n",
    "#add range\n",
    "df_det_vehicles['range'] = np.sqrt(df_det_vehicles['x']**2 + df_det_vehicles['y']**2)\n",
    "\n",
    "train_datasets = df_det_vehicles['train_dataset'].unique()\n",
    "eval_datasets = df_det_vehicles['eval_dataset'].unique()\n",
    "\n",
    "plt.figure(figsize=(10, 5))\n",
    "plt.title('Detection Score per Range Bin')\n",
    "\n",
    "for dataset in eval_datasets:\n",
    "#for dataset in datasets:\n",
    "    #df = df_det_vehicles[df_det_vehicles['dataset'] == dataset]\n",
    "    df = df_det_vehicles[df_det_vehicles['eval_dataset'] == dataset]\n",
    "\n",
    "    # Define bin edges (adjust the range and bin size as needed)\n",
    "    bin_edges = np.linspace(2, 140, num=30)  # Creates 20 evenly spaced bins\n",
    "\n",
    "    # Bin the data\n",
    "    binned_indices = pd.cut(df['range'], bins=bin_edges, include_lowest=True, labels=False)\n",
    "    grouped = df.groupby(binned_indices)\n",
    "\n",
    "    # Calculate mean and standard deviation for each bin\n",
    "    mean_scores = grouped['score'].mean()\n",
    "    std_devs = grouped['score'].std()\n",
    "\n",
    "    # Collect scores for each bin for boxplots\n",
    "    binned_scores = [group['score'].values for _, group in grouped]\n",
    "\n",
    "    # Midpoints of bins for plotting\n",
    "    bin_midpoints = (bin_edges[:-1] + bin_edges[1:]) / 2\n",
    "    \n",
    "    # Add boxplots\n",
    "    for i, bin_midpoint in enumerate(bin_midpoints):\n",
    "        plt.boxplot(binned_scores[i], positions=[bin_midpoint], widths=np.min(np.diff(bin_midpoints)) * 0.7, manage_ticks=False, showfliers=False)\n",
    "\n",
    "    # Plotting\n",
    "    #plt.errorbar(bin_midpoints, mean_scores, yerr=std_devs, fmt='-o', capsize=5)\n",
    "\n",
    "    # Labels and Titles\n",
    "    plt.xlabel('Detection Range')\n",
    "    plt.ylabel('Mean Detection Score')\n",
    "    #plt.title('Mean and Standard Deviation of Detection Scores per Range Bin for Dataset {}'.format(dataset))\n",
    "    plt.title('Mean and Standard Deviation of Detection Scores per Range Bin')\n",
    "    plt.grid(True)\n",
    "\n",
    "# Display the plot\n",
    "plt.legend(train_datasets)\n",
    "plt.show()\n"
   ]
  },
  {
   "cell_type": "code",
   "execution_count": 8,
   "metadata": {},
   "outputs": [],
   "source": [
    "mean_scores_zod = mean_scores"
   ]
  },
  {
   "cell_type": "code",
   "execution_count": 12,
   "metadata": {},
   "outputs": [
    {
     "name": "stderr",
     "output_type": "stream",
     "text": [
      "/tmp/ipykernel_101826/678754838.py:3: SettingWithCopyWarning: \n",
      "A value is trying to be set on a copy of a slice from a DataFrame.\n",
      "Try using .loc[row_indexer,col_indexer] = value instead\n",
      "\n",
      "See the caveats in the documentation: https://pandas.pydata.org/pandas-docs/stable/user_guide/indexing.html#returning-a-view-versus-a-copy\n",
      "  df_det_vehicles['score_diff'] = df_det_vehicles['range'].apply(lambda x: diff[np.clip(np.digitize(x, bin_edges)-1, 0, len(diff)-1)])\n",
      "/tmp/ipykernel_101826/678754838.py:4: SettingWithCopyWarning: \n",
      "A value is trying to be set on a copy of a slice from a DataFrame.\n",
      "Try using .loc[row_indexer,col_indexer] = value instead\n",
      "\n",
      "See the caveats in the documentation: https://pandas.pydata.org/pandas-docs/stable/user_guide/indexing.html#returning-a-view-versus-a-copy\n",
      "  df_det_vehicles['adjusted_score'] = df_det_vehicles['score'] - df_det_vehicles['score_diff']\n"
     ]
    }
   ],
   "source": [
    "diff = mean_scores_zod - mean_scores_avltruck\n",
    "# Add diff to each score according to the bin they fall into\n",
    "df_det_vehicles['score_diff'] = df_det_vehicles['range'].apply(lambda x: diff[np.clip(np.digitize(x, bin_edges)-1, 0, len(diff)-1)])\n",
    "df_det_vehicles['adjusted_score'] = df_det_vehicles['score'] - df_det_vehicles['score_diff']\n"
   ]
  },
  {
   "cell_type": "code",
   "execution_count": null,
   "metadata": {},
   "outputs": [],
   "source": []
  },
  {
   "cell_type": "code",
   "execution_count": 13,
   "metadata": {},
   "outputs": [
    {
     "data": {
      "image/png": "[encoded data removed]",
      "text/plain": [
       "<Figure size 1000x500 with 1 Axes>"
      ]
     },
     "metadata": {},
     "output_type": "display_data"
    }
   ],
   "source": [
    "#plot score diff per range bin\n",
    "plt.figure(figsize=(10, 5))\n",
    "plt.title('Detection Score Difference per Range Bin')\n",
    "\n",
    "for dataset in eval_datasets:\n",
    "#for dataset in datasets:\n",
    "    #df = df_det_vehicles[df_det_vehicles['dataset'] == dataset]\n",
    "    df = df_det_vehicles[df_det_vehicles['eval_dataset'] == dataset]\n",
    "\n",
    "    # Define bin edges (adjust the range and bin size as needed)\n",
    "    bin_edges = np.linspace(2, 140, num=30)  # Creates 20 evenly spaced bins\n",
    "\n",
    "    # Bin the data\n",
    "    binned_indices = pd.cut(df['range'], bins=bin_edges, include_lowest=True, labels=False)\n",
    "    grouped = df.groupby(binned_indices)\n",
    "\n",
    "    # Calculate mean and standard deviation for each bin\n",
    "    mean_scores = grouped['adjusted_score'].mean()\n",
    "    std_devs = grouped['adjusted_score'].std()\n",
    "\n",
    "    # Collect scores for each bin for boxplots\n",
    "    binned_scores = [group['adjusted_score'].values for _, group in grouped]\n",
    "\n",
    "    # Midpoints of bins for plotting\n",
    "    bin_midpoints = (bin_edges[:-1] + bin_edges[1:]) / 2\n",
    "    \n",
    "    # Add boxplots\n",
    "    for i, bin_midpoint in enumerate(bin_midpoints):\n",
    "        plt.boxplot(binned_scores[i], positions=[bin_midpoint], widths=np.min(np.diff(bin_midpoints)) * 0.7, manage_ticks=False, showfliers=False)\n",
    "\n",
    "    # Plotting\n",
    "    #plt.errorbar(bin_midpoints, mean_scores, yerr=std_devs, fmt='-o', capsize=5)\n",
    "\n",
    "    # Labels and Titles\n",
    "    plt.xlabel('Detection Range')\n",
    "    plt.ylabel('Mean Detection Score Difference')\n",
    "    #plt.title('Mean and Standard Deviation of Detection Scores per Range Bin for Dataset {}'.format(dataset))\n",
    "    plt.title('Mean and Standard Deviation of Detection Scores per Range Bin')\n",
    "    plt.grid(True)\n",
    "\n",
    "# Display the plot\n",
    "plt.legend(train_datasets)\n",
    "plt.show()\n"
   ]
  },
  {
   "cell_type": "markdown",
   "metadata": {},
   "source": [
    "### Plot range dist of gt labels"
   ]
  },
  {
   "cell_type": "code",
   "execution_count": null,
   "metadata": {},
   "outputs": [],
   "source": [
    "# add range to gt labels\n",
    "gt_labels['x'] = gt_labels['gt_boxes_lidar'].apply(lambda x: x[0])\n",
    "gt_labels['y'] = gt_labels['gt_boxes_lidar'].apply(lambda x: x[1])\n",
    "gt_labels['range'] = np.sqrt(gt_labels['x']**2 + gt_labels['y']**2)\n",
    "# add range to detections\n",
    "df_det_vehicles['x'] = df_det_vehicles['boxes_lidar'].apply(lambda x: x[0])\n",
    "df_det_vehicles['y'] = df_det_vehicles['boxes_lidar'].apply(lambda x: x[1])\n",
    "df_det_vehicles['range'] = np.sqrt(df_det_vehicles['x']**2 + df_det_vehicles['y']**2)\n",
    "\n",
    "datasets = gt_labels['dataset'].unique()\n",
    "for dataset in datasets:\n",
    "    gt_labels_dataset = gt_labels[gt_labels['dataset'] == dataset]\n",
    "    df_det_vehicles_dataset = df_det_vehicles[df_det_vehicles['eval_dataset'] == dataset]\n",
    "\n",
    "    max_range = 140\n",
    "    gt_labels_dataset = gt_labels_dataset[gt_labels_dataset['range'] < max_range]\n",
    "    df_det_vehicles_dataset = df_det_vehicles_dataset[df_det_vehicles_dataset['range'] < max_range]\n",
    "    \n",
    "    # Define bin edges (adjust the range and bin size as needed)\n",
    "    bin_edges = np.linspace(0, 140, num=140)  # Create one bin for each meter of range\n",
    "\n",
    "    # Bin the data\n",
    "    binned_indices = pd.cut(gt_labels_dataset['range'], bins=bin_edges, include_lowest=True, labels=False)\n",
    "    grouped = gt_labels_dataset.groupby(binned_indices)\n",
    "\n",
    "\n",
    "    # Plot histogram\n",
    "    #plt.hist(gt_labels_dataset['range'], bins=bin_edges, density=True, histtype='bar', label='Ground Truth', alpha=0.5)\n",
    "    plt.hist(df_det_vehicles_dataset['range'], bins=bin_edges, density=True, histtype='bar', label='Detections', alpha=0.5, color='orange')\n",
    "    # Labels and Titles\n",
    "    plt.xlabel('Detection Range')\n",
    "    plt.ylabel('Number of Detections')\n",
    "    plt.title('Number of Detections per Range Bin for Dataset {}'.format(dataset))\n",
    "    plt.grid(True)\n",
    "\n",
    "    # Display the plot\n",
    "    plt.show()\n",
    "\n"
   ]
  },
  {
   "cell_type": "markdown",
   "metadata": {},
   "source": [
    "### Add detection true_labels to detections and detection results for gt labels"
   ]
  },
  {
   "cell_type": "code",
   "execution_count": 16,
   "metadata": {},
   "outputs": [
    {
     "name": "stderr",
     "output_type": "stream",
     "text": [
      "  0%|          | 0/7892 [00:00<?, ?it/s]/home/cgriesbacher/thesis/3DTrans/pcdet/ops/iou3d_nms/iou3d_nms_utils.py:41: UserWarning: The torch.cuda.*DtypeTensor constructors are no longer recommended. It's best to use methods such as torch.tensor(data, dtype=*, device='cuda') to create tensors. (Triggered internally at ../torch/csrc/tensor/python_tensor.cpp:83.)\n",
      "  ans_iou = torch.cuda.FloatTensor(torch.Size((boxes_a.shape[0], boxes_b.shape[0]))).zero_()\n",
      "  9%|▉         | 711/7892 [00:06<01:03, 113.35it/s]"
     ]
    },
    {
     "name": "stdout",
     "output_type": "stream",
     "text": [
      "Frame sequences/CityStreet_dgt_2021-11-04-12-50-12_0_s0/dataset/logical_frame_000001.json has no gts or no detections\n",
      "Frame sequences/CityStreet_dgt_2021-11-04-12-50-12_0_s0/dataset/logical_frame_000002.json has no gts or no detections\n",
      "Frame sequences/CityStreet_dgt_2021-11-04-12-50-12_0_s0/dataset/logical_frame_000003.json has no gts or no detections\n"
     ]
    },
    {
     "name": "stderr",
     "output_type": "stream",
     "text": [
      " 41%|████      | 3208/7892 [00:29<00:41, 111.64it/s]"
     ]
    },
    {
     "name": "stdout",
     "output_type": "stream",
     "text": [
      "Frame sequences/CityThoroughfare_dgt_2021-11-11-11-04-09_0_s0/dataset/logical_frame_000005.json has no gts or no detections\n",
      "Frame sequences/CityThoroughfare_dgt_2021-11-11-11-04-09_0_s0/dataset/logical_frame_000002.json has no gts or no detections\n",
      "Frame sequences/CityThoroughfare_dgt_2021-11-11-11-04-09_0_s0/dataset/logical_frame_000004.json has no gts or no detections\n",
      "Frame sequences/CityThoroughfare_dgt_2021-11-11-11-04-09_0_s0/dataset/logical_frame_000003.json has no gts or no detections\n"
     ]
    },
    {
     "name": "stderr",
     "output_type": "stream",
     "text": [
      " 45%|████▍     | 3522/7892 [00:32<00:36, 121.25it/s]"
     ]
    },
    {
     "name": "stdout",
     "output_type": "stream",
     "text": [
      "Frame sequences/MinorRoad_dgt_2021-08-19-13-47-34_0_s0/dataset/logical_frame_000016.json has no gts or no detections\n",
      "Frame sequences/MinorRoad_dgt_2021-08-19-13-47-34_0_s0/dataset/logical_frame_000001.json has no gts or no detections\n",
      "Frame sequences/MinorRoad_dgt_2021-08-19-13-47-34_0_s0/dataset/logical_frame_000002.json has no gts or no detections\n",
      "Frame sequences/MinorRoad_dgt_2021-08-19-13-47-34_0_s0/dataset/logical_frame_000020.json has no gts or no detections\n",
      "Frame sequences/MinorRoad_dgt_2021-08-19-13-47-34_0_s0/dataset/logical_frame_000019.json has no gts or no detections\n",
      "Frame sequences/MinorRoad_dgt_2021-08-19-13-47-34_0_s0/dataset/logical_frame_000006.json has no gts or no detections\n",
      "Frame sequences/MinorRoad_dgt_2021-08-19-13-47-34_0_s0/dataset/logical_frame_000003.json has no gts or no detections\n",
      "Frame sequences/MinorRoad_dgt_2021-08-03-14-10-57_0_s0/dataset/logical_frame_000005.json has no gts or no detections\n",
      "Frame sequences/MinorRoad_dgt_2021-08-03-14-10-57_0_s0/dataset/logical_frame_000001.json has no gts or no detections\n",
      "Frame sequences/MinorRoad_dgt_2021-08-03-14-10-57_0_s0/dataset/logical_frame_000002.json has no gts or no detections\n",
      "Frame sequences/MinorRoad_dgt_2021-08-03-14-10-57_0_s0/dataset/logical_frame_000004.json has no gts or no detections\n",
      "Frame sequences/MinorRoad_dgt_2021-08-03-14-10-57_0_s0/dataset/logical_frame_000006.json has no gts or no detections\n",
      "Frame sequences/MinorRoad_dgt_2021-08-03-14-10-57_0_s0/dataset/logical_frame_000003.json has no gts or no detections\n",
      "Frame sequences/MinorRoad_dgt_2021-08-19-13-40-24_0_s0/dataset/logical_frame_000008.json has no gts or no detections\n",
      "Frame sequences/MinorRoad_dgt_2021-08-19-13-40-24_0_s0/dataset/logical_frame_000013.json has no gts or no detections\n",
      "Frame sequences/MinorRoad_dgt_2021-08-19-13-40-24_0_s0/dataset/logical_frame_000012.json has no gts or no detections\n",
      "Frame sequences/MinorRoad_dgt_2021-08-19-13-40-24_0_s0/dataset/logical_frame_000007.json has no gts or no detections\n",
      "Frame sequences/MinorRoad_dgt_2021-08-19-13-40-24_0_s0/dataset/logical_frame_000016.json has no gts or no detections\n"
     ]
    },
    {
     "name": "stderr",
     "output_type": "stream",
     "text": [
      " 45%|████▍     | 3549/7892 [00:32<00:34, 126.97it/s]"
     ]
    },
    {
     "name": "stdout",
     "output_type": "stream",
     "text": [
      "Frame sequences/MinorRoad_dgt_2021-08-19-13-40-24_0_s0/dataset/logical_frame_000018.json has no gts or no detections\n",
      "Frame sequences/MinorRoad_dgt_2021-08-19-13-40-24_0_s0/dataset/logical_frame_000001.json has no gts or no detections\n",
      "Frame sequences/MinorRoad_dgt_2021-08-19-13-40-24_0_s0/dataset/logical_frame_000017.json has no gts or no detections\n",
      "Frame sequences/MinorRoad_dgt_2021-08-19-13-40-24_0_s0/dataset/logical_frame_000010.json has no gts or no detections\n",
      "Frame sequences/MinorRoad_dgt_2021-08-19-13-40-24_0_s0/dataset/logical_frame_000020.json has no gts or no detections\n",
      "Frame sequences/MinorRoad_dgt_2021-08-19-13-40-24_0_s0/dataset/logical_frame_000011.json has no gts or no detections\n",
      "Frame sequences/MinorRoad_dgt_2021-08-19-13-40-24_0_s0/dataset/logical_frame_000004.json has no gts or no detections\n",
      "Frame sequences/MinorRoad_dgt_2021-08-19-13-40-24_0_s0/dataset/logical_frame_000009.json has no gts or no detections\n",
      "Frame sequences/MinorRoad_dgt_2021-08-19-13-40-24_0_s0/dataset/logical_frame_000019.json has no gts or no detections\n",
      "Frame sequences/MinorRoad_dgt_2021-08-19-13-40-24_0_s0/dataset/logical_frame_000015.json has no gts or no detections\n",
      "Frame sequences/MinorRoad_dgt_2021-08-19-13-40-24_0_s0/dataset/logical_frame_000006.json has no gts or no detections\n",
      "Frame sequences/MinorRoad_dgt_2021-08-19-13-40-24_0_s0/dataset/logical_frame_000003.json has no gts or no detections\n",
      "Frame sequences/MinorRoad_dgt_2021-08-19-14-28-02_0_s0/dataset/logical_frame_000016.json has no gts or no detections\n",
      "Frame sequences/MinorRoad_dgt_2021-08-19-14-28-02_0_s0/dataset/logical_frame_000017.json has no gts or no detections\n",
      "Frame sequences/MinorRoad_dgt_2021-08-19-14-28-02_0_s0/dataset/logical_frame_000020.json has no gts or no detections\n",
      "Frame sequences/MinorRoad_dgt_2021-08-19-14-28-02_0_s0/dataset/logical_frame_000019.json has no gts or no detections\n"
     ]
    },
    {
     "name": "stderr",
     "output_type": "stream",
     "text": [
      " 46%|████▌     | 3604/7892 [00:32<00:32, 132.17it/s]"
     ]
    },
    {
     "name": "stdout",
     "output_type": "stream",
     "text": [
      "Frame sequences/MinorRoad_dgt_2021-08-31-09-49-30_0_s0/dataset/logical_frame_000026.json has no gts or no detections\n",
      "Frame sequences/MinorRoad_dgt_2021-08-31-09-49-30_0_s0/dataset/logical_frame_000023.json has no gts or no detections\n",
      "Frame sequences/MinorRoad_dgt_2021-08-31-09-49-30_0_s0/dataset/logical_frame_000008.json has no gts or no detections\n",
      "Frame sequences/MinorRoad_dgt_2021-08-31-09-49-30_0_s0/dataset/logical_frame_000013.json has no gts or no detections\n",
      "Frame sequences/MinorRoad_dgt_2021-08-31-09-49-30_0_s0/dataset/logical_frame_000012.json has no gts or no detections\n",
      "Frame sequences/MinorRoad_dgt_2021-08-31-09-49-30_0_s0/dataset/logical_frame_000007.json has no gts or no detections\n",
      "Frame sequences/MinorRoad_dgt_2021-08-31-09-49-30_0_s0/dataset/logical_frame_000016.json has no gts or no detections\n",
      "Frame sequences/MinorRoad_dgt_2021-08-31-09-49-30_0_s0/dataset/logical_frame_000018.json has no gts or no detections\n",
      "Frame sequences/MinorRoad_dgt_2021-08-31-09-49-30_0_s0/dataset/logical_frame_000005.json has no gts or no detections\n",
      "Frame sequences/MinorRoad_dgt_2021-08-31-09-49-30_0_s0/dataset/logical_frame_000001.json has no gts or no detections\n",
      "Frame sequences/MinorRoad_dgt_2021-08-31-09-49-30_0_s0/dataset/logical_frame_000017.json has no gts or no detections\n",
      "Frame sequences/MinorRoad_dgt_2021-08-31-09-49-30_0_s0/dataset/logical_frame_000010.json has no gts or no detections\n",
      "Frame sequences/MinorRoad_dgt_2021-08-31-09-49-30_0_s0/dataset/logical_frame_000002.json has no gts or no detections\n",
      "Frame sequences/MinorRoad_dgt_2021-08-31-09-49-30_0_s0/dataset/logical_frame_000021.json has no gts or no detections\n",
      "Frame sequences/MinorRoad_dgt_2021-08-31-09-49-30_0_s0/dataset/logical_frame_000020.json has no gts or no detections\n",
      "Frame sequences/MinorRoad_dgt_2021-08-31-09-49-30_0_s0/dataset/logical_frame_000011.json has no gts or no detections\n",
      "Frame sequences/MinorRoad_dgt_2021-08-31-09-49-30_0_s0/dataset/logical_frame_000024.json has no gts or no detections\n",
      "Frame sequences/MinorRoad_dgt_2021-08-31-09-49-30_0_s0/dataset/logical_frame_000004.json has no gts or no detections\n",
      "Frame sequences/MinorRoad_dgt_2021-08-31-09-49-30_0_s0/dataset/logical_frame_000019.json has no gts or no detections\n",
      "Frame sequences/MinorRoad_dgt_2021-08-31-09-49-30_0_s0/dataset/logical_frame_000015.json has no gts or no detections\n",
      "Frame sequences/MinorRoad_dgt_2021-08-31-09-49-30_0_s0/dataset/logical_frame_000006.json has no gts or no detections\n",
      "Frame sequences/MinorRoad_dgt_2021-08-31-09-49-30_0_s0/dataset/logical_frame_000014.json has no gts or no detections\n",
      "Frame sequences/MinorRoad_dgt_2021-08-31-09-49-30_0_s0/dataset/logical_frame_000025.json has no gts or no detections\n",
      "Frame sequences/MinorRoad_dgt_2021-08-31-09-49-30_0_s0/dataset/logical_frame_000028.json has no gts or no detections\n",
      "Frame sequences/MinorRoad_dgt_2021-08-31-09-49-30_0_s0/dataset/logical_frame_000027.json has no gts or no detections\n"
     ]
    },
    {
     "name": "stderr",
     "output_type": "stream",
     "text": [
      " 47%|████▋     | 3710/7892 [00:33<00:33, 124.05it/s]"
     ]
    },
    {
     "name": "stdout",
     "output_type": "stream",
     "text": [
      "Frame sequences/MinorRoad_dgt_2021-08-30-14-12-19_0_s0/dataset/logical_frame_000008.json has no gts or no detections\n",
      "Frame sequences/MinorRoad_dgt_2021-08-30-14-12-19_0_s0/dataset/logical_frame_000012.json has no gts or no detections\n",
      "Frame sequences/MinorRoad_dgt_2021-08-30-14-12-19_0_s0/dataset/logical_frame_000016.json has no gts or no detections\n",
      "Frame sequences/MinorRoad_dgt_2021-08-30-14-12-19_0_s0/dataset/logical_frame_000018.json has no gts or no detections\n",
      "Frame sequences/MinorRoad_dgt_2021-08-30-14-12-19_0_s0/dataset/logical_frame_000005.json has no gts or no detections\n",
      "Frame sequences/MinorRoad_dgt_2021-08-30-14-12-19_0_s0/dataset/logical_frame_000017.json has no gts or no detections\n",
      "Frame sequences/MinorRoad_dgt_2021-08-30-14-12-19_0_s0/dataset/logical_frame_000002.json has no gts or no detections\n",
      "Frame sequences/MinorRoad_dgt_2021-08-30-14-12-19_0_s0/dataset/logical_frame_000004.json has no gts or no detections\n",
      "Frame sequences/MinorRoad_dgt_2021-08-30-14-12-19_0_s0/dataset/logical_frame_000009.json has no gts or no detections\n",
      "Frame sequences/MinorRoad_dgt_2021-08-30-14-12-19_0_s0/dataset/logical_frame_000019.json has no gts or no detections\n",
      "Frame sequences/MinorRoad_dgt_2021-08-30-14-12-19_0_s0/dataset/logical_frame_000015.json has no gts or no detections\n",
      "Frame sequences/MinorRoad_dgt_2021-08-30-14-12-19_0_s0/dataset/logical_frame_000006.json has no gts or no detections\n",
      "Frame sequences/MinorRoad_dgt_2021-08-30-14-12-19_0_s0/dataset/logical_frame_000014.json has no gts or no detections\n",
      "Frame sequences/MinorRoad_dgt_2021-08-30-14-12-19_0_s0/dataset/logical_frame_000003.json has no gts or no detections\n"
     ]
    },
    {
     "name": "stderr",
     "output_type": "stream",
     "text": [
      " 50%|████▉     | 3930/7892 [00:35<00:44, 88.30it/s] "
     ]
    },
    {
     "name": "stdout",
     "output_type": "stream",
     "text": [
      "Frame sequences/Motorway_dgt_2021-09-02-15-51-11_0_s0/dataset/logical_frame_000012.json has no gts or no detections\n",
      "Frame sequences/Motorway_dgt_2021-09-02-15-51-11_0_s0/dataset/logical_frame_000016.json has no gts or no detections\n",
      "Frame sequences/Motorway_dgt_2021-09-02-15-51-11_0_s0/dataset/logical_frame_000005.json has no gts or no detections\n",
      "Frame sequences/Motorway_dgt_2021-09-02-15-51-11_0_s0/dataset/logical_frame_000017.json has no gts or no detections\n",
      "Frame sequences/Motorway_dgt_2021-09-02-15-51-11_0_s0/dataset/logical_frame_000010.json has no gts or no detections\n",
      "Frame sequences/Motorway_dgt_2021-09-02-15-51-11_0_s0/dataset/logical_frame_000002.json has no gts or no detections\n",
      "Frame sequences/Motorway_dgt_2021-09-02-15-51-11_0_s0/dataset/logical_frame_000020.json has no gts or no detections\n",
      "Frame sequences/Motorway_dgt_2021-09-02-15-51-11_0_s0/dataset/logical_frame_000004.json has no gts or no detections\n",
      "Frame sequences/Motorway_dgt_2021-09-02-15-51-11_0_s0/dataset/logical_frame_000009.json has no gts or no detections\n",
      "Frame sequences/Motorway_dgt_2021-09-02-15-51-11_0_s0/dataset/logical_frame_000019.json has no gts or no detections\n",
      "Frame sequences/Motorway_dgt_2021-09-02-15-51-11_0_s0/dataset/logical_frame_000003.json has no gts or no detections\n"
     ]
    },
    {
     "name": "stderr",
     "output_type": "stream",
     "text": [
      " 55%|█████▍    | 4319/7892 [00:39<00:29, 121.09it/s]"
     ]
    },
    {
     "name": "stdout",
     "output_type": "stream",
     "text": [
      "Frame sequences/Motorway_dgt_2021-09-14-10-48-53_0_s0/dataset/logical_frame_000008.json has no gts or no detections\n",
      "Frame sequences/Motorway_dgt_2021-09-14-10-48-53_0_s0/dataset/logical_frame_000013.json has no gts or no detections\n",
      "Frame sequences/Motorway_dgt_2021-09-14-10-48-53_0_s0/dataset/logical_frame_000007.json has no gts or no detections\n",
      "Frame sequences/Motorway_dgt_2021-09-14-10-48-53_0_s0/dataset/logical_frame_000016.json has no gts or no detections\n",
      "Frame sequences/Motorway_dgt_2021-09-14-10-48-53_0_s0/dataset/logical_frame_000018.json has no gts or no detections\n",
      "Frame sequences/Motorway_dgt_2021-09-14-10-48-53_0_s0/dataset/logical_frame_000005.json has no gts or no detections\n",
      "Frame sequences/Motorway_dgt_2021-09-14-10-48-53_0_s0/dataset/logical_frame_000001.json has no gts or no detections\n",
      "Frame sequences/Motorway_dgt_2021-09-14-10-48-53_0_s0/dataset/logical_frame_000017.json has no gts or no detections\n",
      "Frame sequences/Motorway_dgt_2021-09-14-10-48-53_0_s0/dataset/logical_frame_000020.json has no gts or no detections\n",
      "Frame sequences/Motorway_dgt_2021-09-14-10-48-53_0_s0/dataset/logical_frame_000004.json has no gts or no detections\n",
      "Frame sequences/Motorway_dgt_2021-09-14-10-48-53_0_s0/dataset/logical_frame_000009.json has no gts or no detections\n",
      "Frame sequences/Motorway_dgt_2021-09-14-10-48-53_0_s0/dataset/logical_frame_000019.json has no gts or no detections\n",
      "Frame sequences/Motorway_dgt_2021-09-14-10-48-53_0_s0/dataset/logical_frame_000015.json has no gts or no detections\n",
      "Frame sequences/Motorway_dgt_2021-09-14-10-48-53_0_s0/dataset/logical_frame_000006.json has no gts or no detections\n"
     ]
    },
    {
     "name": "stderr",
     "output_type": "stream",
     "text": [
      " 61%|██████    | 4822/7892 [00:43<00:24, 124.19it/s]"
     ]
    },
    {
     "name": "stdout",
     "output_type": "stream",
     "text": [
      "Frame sequences/Motorway_dgt_2021-09-15-09-27-31_0_s0/dataset/logical_frame_000008.json has no gts or no detections\n",
      "Frame sequences/Motorway_dgt_2021-09-15-09-27-31_0_s0/dataset/logical_frame_000012.json has no gts or no detections\n",
      "Frame sequences/Motorway_dgt_2021-09-15-09-27-31_0_s0/dataset/logical_frame_000007.json has no gts or no detections\n",
      "Frame sequences/Motorway_dgt_2021-09-15-09-27-31_0_s0/dataset/logical_frame_000018.json has no gts or no detections\n",
      "Frame sequences/Motorway_dgt_2021-09-15-09-27-31_0_s0/dataset/logical_frame_000001.json has no gts or no detections\n",
      "Frame sequences/Motorway_dgt_2021-09-15-09-27-31_0_s0/dataset/logical_frame_000017.json has no gts or no detections\n",
      "Frame sequences/Motorway_dgt_2021-09-15-09-27-31_0_s0/dataset/logical_frame_000002.json has no gts or no detections\n",
      "Frame sequences/Motorway_dgt_2021-09-15-09-27-31_0_s0/dataset/logical_frame_000009.json has no gts or no detections\n",
      "Frame sequences/Motorway_dgt_2021-09-15-09-27-31_0_s0/dataset/logical_frame_000014.json has no gts or no detections\n"
     ]
    },
    {
     "name": "stderr",
     "output_type": "stream",
     "text": [
      " 62%|██████▏   | 4861/7892 [00:44<00:24, 123.71it/s]"
     ]
    },
    {
     "name": "stdout",
     "output_type": "stream",
     "text": [
      "Frame sequences/Motorway_dgt_2021-09-15-12-33-49_0_s0/dataset/logical_frame_000012.json has no gts or no detections\n",
      "Frame sequences/Motorway_dgt_2021-09-15-12-33-49_0_s0/dataset/logical_frame_000018.json has no gts or no detections\n",
      "Frame sequences/Motorway_dgt_2021-09-15-12-33-49_0_s0/dataset/logical_frame_000019.json has no gts or no detections\n",
      "Frame sequences/Motorway_dgt_2021-09-15-12-33-49_0_s0/dataset/logical_frame_000015.json has no gts or no detections\n"
     ]
    },
    {
     "name": "stderr",
     "output_type": "stream",
     "text": [
      " 65%|██████▌   | 5145/7892 [00:46<00:22, 120.78it/s]"
     ]
    },
    {
     "name": "stdout",
     "output_type": "stream",
     "text": [
      "Frame sequences/Motorway_dgt_2021-09-16-08-49-55_0_s0/dataset/logical_frame_000018.json has no gts or no detections\n",
      "Frame sequences/Motorway_dgt_2021-09-16-08-49-55_0_s0/dataset/logical_frame_000019.json has no gts or no detections\n"
     ]
    },
    {
     "name": "stderr",
     "output_type": "stream",
     "text": [
      " 67%|██████▋   | 5284/7892 [00:47<00:22, 115.36it/s]"
     ]
    },
    {
     "name": "stdout",
     "output_type": "stream",
     "text": [
      "Frame sequences/Motorway_dgt_2021-09-14-10-40-27_0_s0/dataset/logical_frame_000013.json has no gts or no detections\n",
      "Frame sequences/Motorway_dgt_2021-09-14-10-40-27_0_s0/dataset/logical_frame_000018.json has no gts or no detections\n",
      "Frame sequences/Motorway_dgt_2021-09-14-10-40-27_0_s0/dataset/logical_frame_000005.json has no gts or no detections\n",
      "Frame sequences/Motorway_dgt_2021-09-14-10-40-27_0_s0/dataset/logical_frame_000001.json has no gts or no detections\n",
      "Frame sequences/Motorway_dgt_2021-09-14-10-40-27_0_s0/dataset/logical_frame_000017.json has no gts or no detections\n",
      "Frame sequences/Motorway_dgt_2021-09-14-10-40-27_0_s0/dataset/logical_frame_000020.json has no gts or no detections\n",
      "Frame sequences/Motorway_dgt_2021-09-14-10-40-27_0_s0/dataset/logical_frame_000011.json has no gts or no detections\n",
      "Frame sequences/Motorway_dgt_2021-09-14-10-40-27_0_s0/dataset/logical_frame_000006.json has no gts or no detections\n"
     ]
    },
    {
     "name": "stderr",
     "output_type": "stream",
     "text": [
      " 69%|██████▉   | 5483/7892 [00:49<00:20, 119.30it/s]"
     ]
    },
    {
     "name": "stdout",
     "output_type": "stream",
     "text": [
      "Frame sequences/Motorway_dgt_2021-08-19-15-15-50_0_s0/dataset/logical_frame_000005.json has no gts or no detections\n",
      "Frame sequences/Motorway_dgt_2021-08-19-15-15-50_0_s0/dataset/logical_frame_000009.json has no gts or no detections\n"
     ]
    },
    {
     "name": "stderr",
     "output_type": "stream",
     "text": [
      " 70%|██████▉   | 5521/7892 [00:49<00:19, 120.91it/s]"
     ]
    },
    {
     "name": "stdout",
     "output_type": "stream",
     "text": [
      "Frame sequences/Motorway_dgt_2021-09-16-08-35-34_0_s0/dataset/logical_frame_000012.json has no gts or no detections\n",
      "Frame sequences/Motorway_dgt_2021-09-16-08-35-34_0_s0/dataset/logical_frame_000007.json has no gts or no detections\n",
      "Frame sequences/Motorway_dgt_2021-09-16-08-35-34_0_s0/dataset/logical_frame_000016.json has no gts or no detections\n",
      "Frame sequences/Motorway_dgt_2021-09-16-08-35-34_0_s0/dataset/logical_frame_000010.json has no gts or no detections\n",
      "Frame sequences/Motorway_dgt_2021-09-16-08-35-34_0_s0/dataset/logical_frame_000011.json has no gts or no detections\n",
      "Frame sequences/Motorway_dgt_2021-09-16-08-35-34_0_s0/dataset/logical_frame_000009.json has no gts or no detections\n",
      "Frame sequences/Motorway_dgt_2021-09-16-08-35-34_0_s0/dataset/logical_frame_000015.json has no gts or no detections\n",
      "Frame sequences/Motorway_dgt_2021-09-16-08-35-34_0_s0/dataset/logical_frame_000006.json has no gts or no detections\n",
      "Frame sequences/Motorway_dgt_2021-09-16-08-35-34_0_s0/dataset/logical_frame_000003.json has no gts or no detections\n"
     ]
    },
    {
     "name": "stderr",
     "output_type": "stream",
     "text": [
      " 71%|███████   | 5573/7892 [00:50<00:18, 123.08it/s]"
     ]
    },
    {
     "name": "stdout",
     "output_type": "stream",
     "text": [
      "Frame sequences/Motorway_dgt_2021-09-03-10-05-53_0_s0/dataset/logical_frame_000008.json has no gts or no detections\n",
      "Frame sequences/Motorway_dgt_2021-09-03-10-05-53_0_s0/dataset/logical_frame_000005.json has no gts or no detections\n",
      "Frame sequences/Motorway_dgt_2021-09-03-10-05-53_0_s0/dataset/logical_frame_000010.json has no gts or no detections\n",
      "Frame sequences/Motorway_dgt_2021-09-03-10-05-53_0_s0/dataset/logical_frame_000004.json has no gts or no detections\n",
      "Frame sequences/Motorway_dgt_2021-09-03-10-05-53_0_s0/dataset/logical_frame_000009.json has no gts or no detections\n",
      "Frame sequences/Motorway_dgt_2021-09-03-10-05-53_0_s0/dataset/logical_frame_000006.json has no gts or no detections\n",
      "Frame sequences/Motorway_dgt_2021-09-03-10-05-53_0_s0/dataset/logical_frame_000003.json has no gts or no detections\n",
      "Frame sequences/Motorway_dgt_2021-09-14-14-33-02_0_s0/dataset/logical_frame_000001.json has no gts or no detections\n"
     ]
    },
    {
     "name": "stderr",
     "output_type": "stream",
     "text": [
      " 74%|███████▍  | 5846/7892 [00:52<00:17, 119.90it/s]"
     ]
    },
    {
     "name": "stdout",
     "output_type": "stream",
     "text": [
      "Frame sequences/Motorway_dgt_2021-09-15-16-12-29_0_s0/dataset/logical_frame_000020.json has no gts or no detections\n",
      "Frame sequences/Motorway_dgt_2021-09-15-16-12-29_0_s0/dataset/logical_frame_000019.json has no gts or no detections\n"
     ]
    },
    {
     "name": "stderr",
     "output_type": "stream",
     "text": [
      " 77%|███████▋  | 6100/7892 [00:54<00:14, 124.61it/s]"
     ]
    },
    {
     "name": "stdout",
     "output_type": "stream",
     "text": [
      "Frame sequences/PrimaryHighway_dgt_2021-07-23-11-25-34_0_s0/dataset/logical_frame_000008.json has no gts or no detections\n",
      "Frame sequences/PrimaryHighway_dgt_2021-07-23-11-25-34_0_s0/dataset/logical_frame_000007.json has no gts or no detections\n",
      "Frame sequences/PrimaryHighway_dgt_2021-07-23-11-25-34_0_s0/dataset/logical_frame_000016.json has no gts or no detections\n",
      "Frame sequences/PrimaryHighway_dgt_2021-07-23-11-25-34_0_s0/dataset/logical_frame_000018.json has no gts or no detections\n",
      "Frame sequences/PrimaryHighway_dgt_2021-07-23-11-25-34_0_s0/dataset/logical_frame_000005.json has no gts or no detections\n",
      "Frame sequences/PrimaryHighway_dgt_2021-07-23-11-25-34_0_s0/dataset/logical_frame_000001.json has no gts or no detections\n",
      "Frame sequences/PrimaryHighway_dgt_2021-07-23-11-25-34_0_s0/dataset/logical_frame_000010.json has no gts or no detections\n",
      "Frame sequences/PrimaryHighway_dgt_2021-07-23-11-25-34_0_s0/dataset/logical_frame_000020.json has no gts or no detections\n",
      "Frame sequences/PrimaryHighway_dgt_2021-07-23-11-25-34_0_s0/dataset/logical_frame_000004.json has no gts or no detections\n",
      "Frame sequences/PrimaryHighway_dgt_2021-07-23-11-25-34_0_s0/dataset/logical_frame_000019.json has no gts or no detections\n",
      "Frame sequences/PrimaryHighway_dgt_2021-07-23-11-25-34_0_s0/dataset/logical_frame_000015.json has no gts or no detections\n",
      "Frame sequences/PrimaryHighway_dgt_2021-07-23-11-25-34_0_s0/dataset/logical_frame_000014.json has no gts or no detections\n",
      "Frame sequences/PrimaryHighway_dgt_2021-07-23-11-25-34_0_s0/dataset/logical_frame_000003.json has no gts or no detections\n"
     ]
    },
    {
     "name": "stderr",
     "output_type": "stream",
     "text": [
      " 78%|███████▊  | 6190/7892 [00:55<00:13, 123.57it/s]"
     ]
    },
    {
     "name": "stdout",
     "output_type": "stream",
     "text": [
      "Frame sequences/PrimaryHighway_dgt_2021-11-25-09-36-46_0_s0/dataset/logical_frame_000008.json has no gts or no detections\n",
      "Frame sequences/PrimaryHighway_dgt_2021-11-25-09-36-46_0_s0/dataset/logical_frame_000013.json has no gts or no detections\n",
      "Frame sequences/PrimaryHighway_dgt_2021-11-25-09-36-46_0_s0/dataset/logical_frame_000012.json has no gts or no detections\n",
      "Frame sequences/PrimaryHighway_dgt_2021-11-25-09-36-46_0_s0/dataset/logical_frame_000007.json has no gts or no detections\n",
      "Frame sequences/PrimaryHighway_dgt_2021-11-25-09-36-46_0_s0/dataset/logical_frame_000016.json has no gts or no detections\n",
      "Frame sequences/PrimaryHighway_dgt_2021-11-25-09-36-46_0_s0/dataset/logical_frame_000018.json has no gts or no detections\n",
      "Frame sequences/PrimaryHighway_dgt_2021-11-25-09-36-46_0_s0/dataset/logical_frame_000005.json has no gts or no detections\n",
      "Frame sequences/PrimaryHighway_dgt_2021-11-25-09-36-46_0_s0/dataset/logical_frame_000017.json has no gts or no detections\n",
      "Frame sequences/PrimaryHighway_dgt_2021-11-25-09-36-46_0_s0/dataset/logical_frame_000010.json has no gts or no detections\n",
      "Frame sequences/PrimaryHighway_dgt_2021-11-25-09-36-46_0_s0/dataset/logical_frame_000020.json has no gts or no detections\n",
      "Frame sequences/PrimaryHighway_dgt_2021-11-25-09-36-46_0_s0/dataset/logical_frame_000011.json has no gts or no detections\n",
      "Frame sequences/PrimaryHighway_dgt_2021-11-25-09-36-46_0_s0/dataset/logical_frame_000004.json has no gts or no detections\n",
      "Frame sequences/PrimaryHighway_dgt_2021-11-25-09-36-46_0_s0/dataset/logical_frame_000009.json has no gts or no detections\n",
      "Frame sequences/PrimaryHighway_dgt_2021-11-25-09-36-46_0_s0/dataset/logical_frame_000019.json has no gts or no detections\n",
      "Frame sequences/PrimaryHighway_dgt_2021-11-25-09-36-46_0_s0/dataset/logical_frame_000015.json has no gts or no detections\n",
      "Frame sequences/PrimaryHighway_dgt_2021-11-25-09-36-46_0_s0/dataset/logical_frame_000006.json has no gts or no detections\n"
     ]
    },
    {
     "name": "stderr",
     "output_type": "stream",
     "text": [
      " 79%|███████▉  | 6255/7892 [00:55<00:13, 125.08it/s]"
     ]
    },
    {
     "name": "stdout",
     "output_type": "stream",
     "text": [
      "Frame sequences/PrimaryHighway_dgt_2021-07-30-09-34-51_0_s0/dataset/logical_frame_000008.json has no gts or no detections\n",
      "Frame sequences/PrimaryHighway_dgt_2021-07-30-09-34-51_0_s0/dataset/logical_frame_000013.json has no gts or no detections\n",
      "Frame sequences/PrimaryHighway_dgt_2021-07-30-09-34-51_0_s0/dataset/logical_frame_000012.json has no gts or no detections\n",
      "Frame sequences/PrimaryHighway_dgt_2021-07-30-09-34-51_0_s0/dataset/logical_frame_000007.json has no gts or no detections\n",
      "Frame sequences/PrimaryHighway_dgt_2021-07-30-09-34-51_0_s0/dataset/logical_frame_000016.json has no gts or no detections\n",
      "Frame sequences/PrimaryHighway_dgt_2021-07-30-09-34-51_0_s0/dataset/logical_frame_000018.json has no gts or no detections\n",
      "Frame sequences/PrimaryHighway_dgt_2021-07-30-09-34-51_0_s0/dataset/logical_frame_000005.json has no gts or no detections\n",
      "Frame sequences/PrimaryHighway_dgt_2021-07-30-09-34-51_0_s0/dataset/logical_frame_000001.json has no gts or no detections\n",
      "Frame sequences/PrimaryHighway_dgt_2021-07-30-09-34-51_0_s0/dataset/logical_frame_000017.json has no gts or no detections\n",
      "Frame sequences/PrimaryHighway_dgt_2021-07-30-09-34-51_0_s0/dataset/logical_frame_000010.json has no gts or no detections\n",
      "Frame sequences/PrimaryHighway_dgt_2021-07-30-09-34-51_0_s0/dataset/logical_frame_000002.json has no gts or no detections\n",
      "Frame sequences/PrimaryHighway_dgt_2021-07-30-09-34-51_0_s0/dataset/logical_frame_000020.json has no gts or no detections\n",
      "Frame sequences/PrimaryHighway_dgt_2021-07-30-09-34-51_0_s0/dataset/logical_frame_000011.json has no gts or no detections\n",
      "Frame sequences/PrimaryHighway_dgt_2021-07-30-09-34-51_0_s0/dataset/logical_frame_000004.json has no gts or no detections\n",
      "Frame sequences/PrimaryHighway_dgt_2021-07-30-09-34-51_0_s0/dataset/logical_frame_000009.json has no gts or no detections\n",
      "Frame sequences/PrimaryHighway_dgt_2021-07-30-09-34-51_0_s0/dataset/logical_frame_000019.json has no gts or no detections\n",
      "Frame sequences/PrimaryHighway_dgt_2021-07-30-09-34-51_0_s0/dataset/logical_frame_000015.json has no gts or no detections\n",
      "Frame sequences/PrimaryHighway_dgt_2021-07-30-09-34-51_0_s0/dataset/logical_frame_000006.json has no gts or no detections\n",
      "Frame sequences/PrimaryHighway_dgt_2021-07-30-09-34-51_0_s0/dataset/logical_frame_000014.json has no gts or no detections\n",
      "Frame sequences/PrimaryHighway_dgt_2021-07-30-09-34-51_0_s0/dataset/logical_frame_000003.json has no gts or no detections\n"
     ]
    },
    {
     "name": "stderr",
     "output_type": "stream",
     "text": [
      " 80%|███████▉  | 6294/7892 [00:56<00:13, 121.98it/s]"
     ]
    },
    {
     "name": "stdout",
     "output_type": "stream",
     "text": [
      "Frame sequences/PrimaryHighway_dgt_2021-07-30-10-12-40_0_s0/dataset/logical_frame_000016.json has no gts or no detections\n",
      "Frame sequences/PrimaryHighway_dgt_2021-07-30-10-12-40_0_s0/dataset/logical_frame_000018.json has no gts or no detections\n",
      "Frame sequences/PrimaryHighway_dgt_2021-07-30-10-12-40_0_s0/dataset/logical_frame_000017.json has no gts or no detections\n",
      "Frame sequences/PrimaryHighway_dgt_2021-07-30-10-12-40_0_s0/dataset/logical_frame_000020.json has no gts or no detections\n",
      "Frame sequences/PrimaryHighway_dgt_2021-07-30-10-12-40_0_s0/dataset/logical_frame_000019.json has no gts or no detections\n",
      "Frame sequences/PrimaryHighway_dgt_2021-07-30-10-12-40_0_s0/dataset/logical_frame_000015.json has no gts or no detections\n",
      "Frame sequences/PrimaryHighway_dgt_2021-07-30-10-12-40_0_s0/dataset/logical_frame_000014.json has no gts or no detections\n"
     ]
    },
    {
     "name": "stderr",
     "output_type": "stream",
     "text": [
      " 85%|████████▍ | 6682/7892 [00:59<00:10, 114.08it/s]"
     ]
    },
    {
     "name": "stdout",
     "output_type": "stream",
     "text": [
      "Frame sequences/PrimaryHighway_dgt_2021-07-23-09-52-00_0_s0/dataset/logical_frame_000001.json has no gts or no detections\n",
      "Frame sequences/PrimaryHighway_dgt_2021-07-23-09-52-00_0_s0/dataset/logical_frame_000002.json has no gts or no detections\n"
     ]
    },
    {
     "name": "stderr",
     "output_type": "stream",
     "text": [
      " 86%|████████▌ | 6795/7892 [01:00<00:09, 118.83it/s]"
     ]
    },
    {
     "name": "stdout",
     "output_type": "stream",
     "text": [
      "Frame sequences/PrimaryHighway_dgt_2021-07-13-11-15-16_0_s0/dataset/logical_frame_000007.json has no gts or no detections\n",
      "Frame sequences/PrimaryHighway_dgt_2021-07-13-11-15-16_0_s0/dataset/logical_frame_000005.json has no gts or no detections\n",
      "Frame sequences/PrimaryHighway_dgt_2021-07-13-11-15-16_0_s0/dataset/logical_frame_000001.json has no gts or no detections\n",
      "Frame sequences/PrimaryHighway_dgt_2021-07-13-11-15-16_0_s0/dataset/logical_frame_000002.json has no gts or no detections\n",
      "Frame sequences/PrimaryHighway_dgt_2021-07-13-11-15-16_0_s0/dataset/logical_frame_000004.json has no gts or no detections\n",
      "Frame sequences/PrimaryHighway_dgt_2021-07-13-11-15-16_0_s0/dataset/logical_frame_000006.json has no gts or no detections\n",
      "Frame sequences/PrimaryHighway_dgt_2021-07-13-11-15-16_0_s0/dataset/logical_frame_000003.json has no gts or no detections\n"
     ]
    },
    {
     "name": "stderr",
     "output_type": "stream",
     "text": [
      " 87%|████████▋ | 6858/7892 [01:01<00:08, 117.90it/s]"
     ]
    },
    {
     "name": "stdout",
     "output_type": "stream",
     "text": [
      "Frame sequences/PrimaryHighway_dgt_2021-07-21-11-18-59_0_s0/dataset/logical_frame_000008.json has no gts or no detections\n",
      "Frame sequences/PrimaryHighway_dgt_2021-07-21-11-18-59_0_s0/dataset/logical_frame_000001.json has no gts or no detections\n",
      "Frame sequences/PrimaryHighway_dgt_2021-07-21-11-18-59_0_s0/dataset/logical_frame_000010.json has no gts or no detections\n",
      "Frame sequences/PrimaryHighway_dgt_2021-07-21-11-18-59_0_s0/dataset/logical_frame_000002.json has no gts or no detections\n",
      "Frame sequences/PrimaryHighway_dgt_2021-07-21-11-18-59_0_s0/dataset/logical_frame_000011.json has no gts or no detections\n",
      "Frame sequences/PrimaryHighway_dgt_2021-07-21-11-18-59_0_s0/dataset/logical_frame_000004.json has no gts or no detections\n",
      "Frame sequences/PrimaryHighway_dgt_2021-07-21-11-18-59_0_s0/dataset/logical_frame_000009.json has no gts or no detections\n",
      "Frame sequences/PrimaryHighway_dgt_2021-07-21-11-18-59_0_s0/dataset/logical_frame_000006.json has no gts or no detections\n",
      "Frame sequences/PrimaryHighway_dgt_2021-07-21-11-18-59_0_s0/dataset/logical_frame_000003.json has no gts or no detections\n"
     ]
    },
    {
     "name": "stderr",
     "output_type": "stream",
     "text": [
      " 91%|█████████ | 7154/7892 [01:03<00:06, 117.79it/s]"
     ]
    },
    {
     "name": "stdout",
     "output_type": "stream",
     "text": [
      "Frame sequences/PrimaryHighway_dgt_2021-07-30-09-58-29_0_s0/dataset/logical_frame_000020.json has no gts or no detections\n"
     ]
    },
    {
     "name": "stderr",
     "output_type": "stream",
     "text": [
      " 92%|█████████▏| 7251/7892 [01:04<00:05, 118.45it/s]"
     ]
    },
    {
     "name": "stdout",
     "output_type": "stream",
     "text": [
      "Frame sequences/SecondaryHighway_dgt_2021-07-21-11-45-51_0_s0/dataset/logical_frame_000016.json has no gts or no detections\n",
      "Frame sequences/SecondaryHighway_dgt_2021-07-21-11-45-51_0_s0/dataset/logical_frame_000018.json has no gts or no detections\n",
      "Frame sequences/SecondaryHighway_dgt_2021-07-21-11-45-51_0_s0/dataset/logical_frame_000017.json has no gts or no detections\n",
      "Frame sequences/SecondaryHighway_dgt_2021-07-21-11-45-51_0_s0/dataset/logical_frame_000020.json has no gts or no detections\n",
      "Frame sequences/SecondaryHighway_dgt_2021-07-21-11-45-51_0_s0/dataset/logical_frame_000019.json has no gts or no detections\n",
      "Frame sequences/SecondaryHighway_dgt_2021-07-21-11-45-51_0_s0/dataset/logical_frame_000015.json has no gts or no detections\n"
     ]
    },
    {
     "name": "stderr",
     "output_type": "stream",
     "text": [
      " 93%|█████████▎| 7374/7892 [01:05<00:04, 120.64it/s]"
     ]
    },
    {
     "name": "stdout",
     "output_type": "stream",
     "text": [
      "Frame sequences/SecondaryHighway_dgt_2021-07-08-12-25-30_0_s0/dataset/logical_frame_000008.json has no gts or no detections\n",
      "Frame sequences/SecondaryHighway_dgt_2021-07-08-12-25-30_0_s0/dataset/logical_frame_000013.json has no gts or no detections\n",
      "Frame sequences/SecondaryHighway_dgt_2021-07-08-12-25-30_0_s0/dataset/logical_frame_000012.json has no gts or no detections\n",
      "Frame sequences/SecondaryHighway_dgt_2021-07-08-12-25-30_0_s0/dataset/logical_frame_000007.json has no gts or no detections\n",
      "Frame sequences/SecondaryHighway_dgt_2021-07-08-12-25-30_0_s0/dataset/logical_frame_000018.json has no gts or no detections\n",
      "Frame sequences/SecondaryHighway_dgt_2021-07-08-12-25-30_0_s0/dataset/logical_frame_000005.json has no gts or no detections\n",
      "Frame sequences/SecondaryHighway_dgt_2021-07-08-12-25-30_0_s0/dataset/logical_frame_000001.json has no gts or no detections\n",
      "Frame sequences/SecondaryHighway_dgt_2021-07-08-12-25-30_0_s0/dataset/logical_frame_000017.json has no gts or no detections\n",
      "Frame sequences/SecondaryHighway_dgt_2021-07-08-12-25-30_0_s0/dataset/logical_frame_000010.json has no gts or no detections\n",
      "Frame sequences/SecondaryHighway_dgt_2021-07-08-12-25-30_0_s0/dataset/logical_frame_000002.json has no gts or no detections\n",
      "Frame sequences/SecondaryHighway_dgt_2021-07-08-12-25-30_0_s0/dataset/logical_frame_000020.json has no gts or no detections\n",
      "Frame sequences/SecondaryHighway_dgt_2021-07-08-12-25-30_0_s0/dataset/logical_frame_000011.json has no gts or no detections\n",
      "Frame sequences/SecondaryHighway_dgt_2021-07-08-12-25-30_0_s0/dataset/logical_frame_000004.json has no gts or no detections\n",
      "Frame sequences/SecondaryHighway_dgt_2021-07-08-12-25-30_0_s0/dataset/logical_frame_000006.json has no gts or no detections\n",
      "Frame sequences/SecondaryHighway_dgt_2021-07-08-12-25-30_0_s0/dataset/logical_frame_000014.json has no gts or no detections\n",
      "Frame sequences/SecondaryHighway_dgt_2021-07-08-12-25-30_0_s0/dataset/logical_frame_000003.json has no gts or no detections\n"
     ]
    },
    {
     "name": "stderr",
     "output_type": "stream",
     "text": [
      " 95%|█████████▍| 7483/7892 [01:06<00:03, 116.98it/s]"
     ]
    },
    {
     "name": "stdout",
     "output_type": "stream",
     "text": [
      "Frame sequences/SecondaryHighway_dgt_2021-11-05-10-32-59_0_s0/dataset/logical_frame_000002.json has no gts or no detections\n",
      "Frame sequences/SecondaryHighway_dgt_2021-11-05-10-32-59_0_s0/dataset/logical_frame_000004.json has no gts or no detections\n",
      "Frame sequences/SecondaryHighway_dgt_2021-11-05-10-32-59_0_s0/dataset/logical_frame_000003.json has no gts or no detections\n"
     ]
    },
    {
     "name": "stderr",
     "output_type": "stream",
     "text": [
      " 97%|█████████▋| 7640/7892 [01:08<00:02, 114.67it/s]"
     ]
    },
    {
     "name": "stdout",
     "output_type": "stream",
     "text": [
      "Frame sequences/SecondaryHighway_dgt_2021-08-19-14-11-04_0_s0/dataset/logical_frame_000008.json has no gts or no detections\n",
      "Frame sequences/SecondaryHighway_dgt_2021-08-19-14-11-04_0_s0/dataset/logical_frame_000018.json has no gts or no detections\n",
      "Frame sequences/SecondaryHighway_dgt_2021-08-19-14-11-04_0_s0/dataset/logical_frame_000005.json has no gts or no detections\n",
      "Frame sequences/SecondaryHighway_dgt_2021-08-19-14-11-04_0_s0/dataset/logical_frame_000011.json has no gts or no detections\n"
     ]
    },
    {
     "name": "stderr",
     "output_type": "stream",
     "text": [
      " 98%|█████████▊| 7712/7892 [01:08<00:01, 115.77it/s]"
     ]
    },
    {
     "name": "stdout",
     "output_type": "stream",
     "text": [
      "Frame sequences/SecondaryHighway_dgt_2021-07-23-13-02-47_0_s0/dataset/logical_frame_000020.json has no gts or no detections\n"
     ]
    },
    {
     "name": "stderr",
     "output_type": "stream",
     "text": [
      "100%|██████████| 7892/7892 [01:10<00:00, 112.20it/s]\n"
     ]
    },
    {
     "name": "stdout",
     "output_type": "stream",
     "text": [
      "Frame sequences/SecondaryHighway_dgt_2021-08-19-14-30-19_0_s0/dataset/logical_frame_000008.json has no gts or no detections\n",
      "Frame sequences/SecondaryHighway_dgt_2021-08-19-14-30-19_0_s0/dataset/logical_frame_000013.json has no gts or no detections\n",
      "Frame sequences/SecondaryHighway_dgt_2021-08-19-14-30-19_0_s0/dataset/logical_frame_000012.json has no gts or no detections\n",
      "Frame sequences/SecondaryHighway_dgt_2021-08-19-14-30-19_0_s0/dataset/logical_frame_000007.json has no gts or no detections\n",
      "Frame sequences/SecondaryHighway_dgt_2021-08-19-14-30-19_0_s0/dataset/logical_frame_000016.json has no gts or no detections\n",
      "Frame sequences/SecondaryHighway_dgt_2021-08-19-14-30-19_0_s0/dataset/logical_frame_000018.json has no gts or no detections\n",
      "Frame sequences/SecondaryHighway_dgt_2021-08-19-14-30-19_0_s0/dataset/logical_frame_000005.json has no gts or no detections\n",
      "Frame sequences/SecondaryHighway_dgt_2021-08-19-14-30-19_0_s0/dataset/logical_frame_000017.json has no gts or no detections\n",
      "Frame sequences/SecondaryHighway_dgt_2021-08-19-14-30-19_0_s0/dataset/logical_frame_000010.json has no gts or no detections\n",
      "Frame sequences/SecondaryHighway_dgt_2021-08-19-14-30-19_0_s0/dataset/logical_frame_000002.json has no gts or no detections\n",
      "Frame sequences/SecondaryHighway_dgt_2021-08-19-14-30-19_0_s0/dataset/logical_frame_000011.json has no gts or no detections\n",
      "Frame sequences/SecondaryHighway_dgt_2021-08-19-14-30-19_0_s0/dataset/logical_frame_000004.json has no gts or no detections\n",
      "Frame sequences/SecondaryHighway_dgt_2021-08-19-14-30-19_0_s0/dataset/logical_frame_000009.json has no gts or no detections\n",
      "Frame sequences/SecondaryHighway_dgt_2021-08-19-14-30-19_0_s0/dataset/logical_frame_000019.json has no gts or no detections\n",
      "Frame sequences/SecondaryHighway_dgt_2021-08-19-14-30-19_0_s0/dataset/logical_frame_000015.json has no gts or no detections\n",
      "Frame sequences/SecondaryHighway_dgt_2021-08-19-14-30-19_0_s0/dataset/logical_frame_000006.json has no gts or no detections\n",
      "Frame sequences/SecondaryHighway_dgt_2021-08-19-14-30-19_0_s0/dataset/logical_frame_000014.json has no gts or no detections\n",
      "Frame sequences/SecondaryHighway_dgt_2021-08-19-14-30-19_0_s0/dataset/logical_frame_000003.json has no gts or no detections\n"
     ]
    }
   ],
   "source": [
    "#reduce gt labels to frames that are in the detections\n",
    "gt_labels_all = gt_labels_all[gt_labels_all['frame_id'].isin(detections_all['frame_id'].unique())]\n",
    "# XXX: remove frames that have no gt labels from gts and dts\n",
    "\n",
    "#add x, y, range, angle\n",
    "detections_all['x'] = detections_all['boxes_lidar'].apply(lambda x: x[0])\n",
    "detections_all['y'] = detections_all['boxes_lidar'].apply(lambda x: x[1])\n",
    "detections_all['range'] = np.sqrt(detections_all['x']**2 + detections_all['y']**2)\n",
    "detections_all['angle'] = np.arctan2(detections_all['y'], detections_all['x'])*180/np.pi\n",
    "\n",
    "gt_labels_all['x'] = gt_labels_all['gt_boxes_lidar'].apply(lambda x: x[0])\n",
    "gt_labels_all['y'] = gt_labels_all['gt_boxes_lidar'].apply(lambda x: x[1])\n",
    "gt_labels_all['range'] = np.sqrt(gt_labels_all['x']**2 + gt_labels_all['y']**2)\n",
    "gt_labels_all['angle'] = np.arctan2(gt_labels_all['y'], gt_labels_all['x'])*180/np.pi\n",
    "\n",
    "def plot_alignment_infos(df_det, df_gt):\n",
    "    eval_datasets = df_det['eval_dataset'].unique()\n",
    "\n",
    "    for eval_dataset in eval_datasets:\n",
    "        #print max range and minmax angle for each dataset\n",
    "        print(eval_dataset, \"detections\")\n",
    "        print(\"max range: \", df_det[df_det['eval_dataset'] == eval_dataset]['range'].max())\n",
    "        print(\"min angle: \", df_det[df_det['eval_dataset'] == eval_dataset]['angle'].min())\n",
    "        print(\"max angle: \", df_det[df_det['eval_dataset'] == eval_dataset]['angle'].max())\n",
    "        print(\"\")\n",
    "\n",
    "        print(eval_dataset, \"gt labels\")\n",
    "        print(\"max range: \", df_gt[df_gt['dataset'] == eval_dataset]['range'].max())\n",
    "        print(\"min angle: \", df_gt[df_gt['dataset'] == eval_dataset]['angle'].min())\n",
    "        print(\"max angle: \", df_gt[df_gt['dataset'] == eval_dataset]['angle'].max())\n",
    "        print(\"\")\n",
    "\n",
    "        #plot angle histo for detections and gt labels (same figure) for the vehicle class\n",
    "        fig, axs = plt.subplots(1,2, figsize=(14, 7))\n",
    "\n",
    "        #plot detections\n",
    "        df_det_vehicles = df_det[(df_det['eval_dataset'] == eval_dataset)]\n",
    "        df_det_vehicles = df_det_vehicles[df_det_vehicles['range'] < 140]\n",
    "        sns.histplot(data=df_det_vehicles, x='angle', hue='eval_dataset', kde=False, element='step', binwidth=2, stat='density', common_norm=False, ax=axs[0])\n",
    "        axs[0].set_xlabel(\"Angle\")\n",
    "        axs[0].set_ylabel(\"Count\")\n",
    "        axs[0].set_title(f\"Class: Vehicle, Dataset: {eval_dataset}\")\n",
    "\n",
    "        #plot gt labels\n",
    "        df_gt_vehicles = df_gt[(df_gt['dataset'] == eval_dataset)]\n",
    "        df_gt_vehicles = df_gt_vehicles[df_gt_vehicles['range'] < 140]\n",
    "        sns.histplot(data=df_gt_vehicles, x='angle', hue='dataset', kde=False, element='step', binwidth=2, stat='density', common_norm=False, ax=axs[1])\n",
    "        axs[1].set_xlabel(\"Angle\")\n",
    "        axs[1].set_ylabel(\"Count\")\n",
    "        axs[1].set_title(f\"Class: Vehicle, Dataset: {eval_dataset}\")\n",
    "\n",
    "        plt.tight_layout()\n",
    "\n",
    "        plt.show()\n",
    "\n",
    "#reduce to vehicle class\n",
    "detections_vehicles = detections_all[detections_all['name'] == 'Vehicle']\n",
    "gt_labels_vehicles = gt_labels_all[gt_labels_all['names'] == 'Vehicle']\n",
    "\n",
    "#plot_alignment_infos(detections_vehicles, gt_labels_vehicles)\n",
    "\n",
    "#align datasets\n",
    "min_angle = -60\n",
    "max_angle = 60\n",
    "max_range = 140\n",
    "\n",
    "detections_vehicles = detections_vehicles[(detections_vehicles['angle'] >= min_angle) & (detections_vehicles['angle'] <= max_angle)]\n",
    "detections_vehicles = detections_vehicles[detections_vehicles['range'] < max_range]\n",
    "\n",
    "gt_labels_vehicles = gt_labels_vehicles[(gt_labels_vehicles['angle'] >= min_angle) & (gt_labels_vehicles['angle'] <= max_angle)]\n",
    "gt_labels_vehicles = gt_labels_vehicles[gt_labels_vehicles['range'] < max_range]\n",
    "detections_vehicles.reset_index(drop=True, inplace=True)\n",
    "gt_labels_vehicles.reset_index(drop=True, inplace=True)\n",
    "#plot_alignment_infos(detections_vehicles, gt_labels_vehicles)\n",
    "\n",
    "#calc ious\n",
    "detections_vehicles, gt_labels_vehicles = calc_ious(detections_vehicles, gt_labels_vehicles)\n",
    "\n",
    "\n",
    "\n"
   ]
  },
  {
   "cell_type": "code",
   "execution_count": null,
   "metadata": {},
   "outputs": [],
   "source": [
    "plot_confusion_matrix(detections_vehicles, gt_labels_vehicles, 0.5, epochs=\"50\", pseudo_labels_folder_path=None, show_plot=True, do_print=False)"
   ]
  },
  {
   "cell_type": "markdown",
   "metadata": {},
   "source": [
    "### Analyze IOU threshold"
   ]
  },
  {
   "cell_type": "code",
   "execution_count": null,
   "metadata": {},
   "outputs": [],
   "source": [
    "\n",
    "iou_thresholds = np.arange(0.05, 1, 0.05)\n",
    "\n",
    "vehicles_vehicle = []\n",
    "vehicles_background = []\n",
    "background_vehicle = []\n",
    "\n",
    "for iou_threshold in iou_thresholds:\n",
    "    detections_vehicles[f'detected_{iou_threshold}'] = detections_vehicles['iou'] >= iou_threshold\n",
    "    gt_labels_vehicles[f'detected_{iou_threshold}'] = gt_labels_vehicles['iou'] >= iou_threshold\n",
    "\n",
    "    \n",
    "    vehicles_vehicle.append(len(detections_vehicles[(detections_vehicles[f'detected_{iou_threshold}'] == True) & (detections_vehicles['true_label'] == 'Vehicle')]))\n",
    "    vehicles_background.append(len(detections_vehicles[(detections_vehicles[f'detected_{iou_threshold}'] == False)]))\n",
    "    background_vehicle.append(len(gt_labels_vehicles[(gt_labels_vehicles[f'detected_{iou_threshold}'] == False) & (gt_labels_vehicles['names'] == 'Vehicle')]))\n",
    "\n",
    "#convert to percentage of detections\n",
    "vehicles_vehicle = np.array(vehicles_vehicle)/len(detections_vehicles)\n",
    "vehicles_background = np.array(vehicles_background)/len(detections_vehicles)\n",
    "background_vehicle = np.array(background_vehicle)/len(gt_labels_vehicles)\n",
    "\n",
    "plt.figure(figsize=(10, 5))\n",
    "plt.title('Number of detections per iou threshold')\n",
    "plt.plot(iou_thresholds, vehicles_vehicle, label='detected as vehicle, true label vehicle')\n",
    "plt.plot(iou_thresholds, vehicles_background, label='detected as vehicle, true label background')\n",
    "plt.plot(iou_thresholds, background_vehicle, label='detected as background, true label vehicle')\n",
    "plt.legend()\n",
    "plt.xlabel('iou threshold')\n",
    "plt.ylabel('Number of detections')\n",
    "plt.grid(True)\n",
    "plt.show()\n"
   ]
  },
  {
   "cell_type": "code",
   "execution_count": 17,
   "metadata": {},
   "outputs": [],
   "source": [
    "detections_vehicles['score_diff'] = detections_vehicles['range'].apply(lambda x: diff[np.clip(np.digitize(x, bin_edges)-1, 0, len(diff)-1)])\n"
   ]
  },
  {
   "cell_type": "code",
   "execution_count": 18,
   "metadata": {},
   "outputs": [],
   "source": [
    "detections_vehicles['adjusted_score'] = detections_vehicles['score'] + detections_vehicles['score_diff']"
   ]
  },
  {
   "cell_type": "markdown",
   "metadata": {},
   "source": [
    "### Analyze score threshold"
   ]
  },
  {
   "cell_type": "code",
   "execution_count": 32,
   "metadata": {},
   "outputs": [
    {
     "name": "stdout",
     "output_type": "stream",
     "text": [
      "delta_score is -0.0 k is -0.0\n",
      "most true labels for iou 0.7 is 0.55 with 58684  true labels and 9893 false labels\n",
      "false vehicles 3966\n",
      "undetected vehicles 5927\n"
     ]
    },
    {
     "data": {
      "image/png": "[encoded data removed]",
      "text/plain": [
       "<Figure size 1000x500 with 1 Axes>"
      ]
     },
     "metadata": {},
     "output_type": "display_data"
    }
   ],
   "source": [
    "score_thresholds = np.arange(0.05, 1, 0.05)\n",
    "#iou_thresholds = [0.3, 0.5, 0.7]\n",
    "iou_thresholds = [0.7]\n",
    "line_types = ['-', '--', ':']\n",
    "colors = ['blue', 'orange', 'green', 'red']\n",
    "\n",
    "plt.figure(figsize=(10, 5))\n",
    "plt.title('Number of detections per score for IOU threshold')\n",
    "\n",
    "max_dist = 130\n",
    "\n",
    "delta_scores = np.arange(-1, 1, 0.1)\n",
    "delta_scores = [-0.0]\n",
    "\n",
    "for delta_score in delta_scores:\n",
    "    k = delta_score/max_dist\n",
    "    print(\"delta_score is\", delta_score, \"k is\", k)\n",
    "    for iou_threshold in iou_thresholds:\n",
    "        true_tp = []\n",
    "        false_tp = []\n",
    "        true_fn = []\n",
    "        false_fn = []\n",
    "\n",
    "        for score_threshold in score_thresholds:\n",
    "            \n",
    "            #range dependent score threshold\n",
    "            range_dep_score_threshold = score_threshold + k*detections_vehicles['range']\n",
    "            detections_vehicles[f'ps_vehicle_{score_threshold}'] = detections_vehicles['score'] >= range_dep_score_threshold\n",
    "\n",
    "            #static score threshold\n",
    "            #detections_vehicles[f'ps_vehicle_{score_threshold}'] = detections_vehicles['score'] >= score_threshold\n",
    "            \n",
    "            #reduce to max dist\n",
    "            detections_vehicles_max_dist = detections_vehicles[detections_vehicles['range'] < max_dist]\n",
    "\n",
    "\n",
    "            true_tp.append(len(detections_vehicles[(detections_vehicles[f'ps_vehicle_{score_threshold}'] == True) & (detections_vehicles[f'detected_{iou_threshold}'] == True)]))\n",
    "            false_tp.append(len(detections_vehicles[(detections_vehicles[f'ps_vehicle_{score_threshold}'] == True) & (detections_vehicles[f'detected_{iou_threshold}'] == False)]))\n",
    "            true_fn.append(len(detections_vehicles[(detections_vehicles[f'ps_vehicle_{score_threshold}'] == False) & (detections_vehicles[f'detected_{iou_threshold}'] == False)]))\n",
    "            false_fn.append(len(detections_vehicles[(detections_vehicles[f'ps_vehicle_{score_threshold}'] == False) & (detections_vehicles[f'detected_{iou_threshold}'] == True)]))\n",
    "\n",
    "\n",
    "        true_tp = np.array(true_tp)\n",
    "        false_tp = np.array(false_tp)\n",
    "        true_fn = np.array(true_fn)\n",
    "        false_fn = np.array(false_fn)\n",
    "        \n",
    "        # convert to percentage of detections\n",
    "        #true_tp = np.array(true_tp)/len(detections_vehicles)\n",
    "        #false_tp = np.array(false_tp)/len(detections_vehicles)\n",
    "        #true_fn = np.array(true_fn)/len(detections_vehicles)\n",
    "        #false_fn = np.array(false_fn)/len(detections_vehicles)\n",
    "\n",
    "        # XXX: Chance percentage to percentage of actual true labels \n",
    "\n",
    "        true_labels = true_tp + true_fn\n",
    "        false_labels = false_tp + false_fn\n",
    "\n",
    "        plt.plot(score_thresholds, true_labels, label=f'true_ps, iou {iou_threshold}', linestyle=\"-\", color=colors[0])\n",
    "        plt.plot(score_thresholds, false_labels, label=f'false_ps, iou {iou_threshold}', linestyle=\"-\", color=colors[1])\n",
    "        plt.plot(score_thresholds, true_tp, label='ps vehicle, actually vehicle', linestyle=\"--\", color=colors[0], alpha=0.5)\n",
    "        plt.plot(score_thresholds, false_tp, label='ps vehicle, actually background', linestyle=\"--\", color=colors[1], alpha=0.5)\n",
    "        plt.plot(score_thresholds, true_fn, label='ps background, actually background', linestyle=\"--\", color=colors[2], alpha=0.5)\n",
    "        plt.plot(score_thresholds, false_fn, label='ps background, actually vehicle', linestyle=\"--\", color=colors[3], alpha=0.5)\n",
    "\n",
    "        best_score_index = np.argmax(true_labels)\n",
    "        best_score_threshold = score_thresholds[best_score_index]\n",
    "        print(\"most true labels for iou\", iou_threshold, \"is\", np.round(best_score_threshold, 2), \"with\", np.round(true_labels[best_score_index], 3) ,\" true labels and\", np.round(false_labels[best_score_index], 3), \"false labels\")\n",
    "        print(\"false vehicles\", np.round(false_tp[best_score_index], 3))\n",
    "        print(\"undetected vehicles\", np.round(false_fn[best_score_index], 3))\n",
    "\n",
    "#plot legend outside of plot\n",
    "plt.legend(bbox_to_anchor=(1.05, 1), loc='upper left')\n",
    "plt.xlabel('score threshold')\n",
    "plt.ylabel('Percentage of detections')\n",
    "plt.minorticks_on()\n",
    "plt.grid(True)\n",
    "plt.show()\n"
   ]
  },
  {
   "cell_type": "code",
   "execution_count": 26,
   "metadata": {},
   "outputs": [
    {
     "ename": "IndexError",
     "evalue": "list index out of range",
     "output_type": "error",
     "traceback": [
      "\u001b[0;31m---------------------------------------------------------------------------\u001b[0m",
      "\u001b[0;31mIndexError\u001b[0m                                Traceback (most recent call last)",
      "\u001b[1;32m/home/cgriesbacher/thesis/3DTrans/tools/misc/analyze_detresults_pseudolabels.ipynb Cell 25\u001b[0m line \u001b[0;36m3\n\u001b[1;32m     <a href='vscode-notebook-cell:/home/cgriesbacher/thesis/3DTrans/tools/misc/analyze_detresults_pseudolabels.ipynb#X36sZmlsZQ%3D%3D?line=32'>33</a>\u001b[0m \u001b[39m# Add boxplots\u001b[39;00m\n\u001b[1;32m     <a href='vscode-notebook-cell:/home/cgriesbacher/thesis/3DTrans/tools/misc/analyze_detresults_pseudolabels.ipynb#X36sZmlsZQ%3D%3D?line=33'>34</a>\u001b[0m \u001b[39mfor\u001b[39;00m i, bin_midpoint \u001b[39min\u001b[39;00m \u001b[39menumerate\u001b[39m(bin_midpoints):\n\u001b[0;32m---> <a href='vscode-notebook-cell:/home/cgriesbacher/thesis/3DTrans/tools/misc/analyze_detresults_pseudolabels.ipynb#X36sZmlsZQ%3D%3D?line=34'>35</a>\u001b[0m     plt\u001b[39m.\u001b[39mboxplot(binned_scores[i], positions\u001b[39m=\u001b[39m[bin_midpoint], widths\u001b[39m=\u001b[39mnp\u001b[39m.\u001b[39mmin(np\u001b[39m.\u001b[39mdiff(bin_midpoints)) \u001b[39m*\u001b[39m \u001b[39m0.7\u001b[39m, manage_ticks\u001b[39m=\u001b[39m\u001b[39mFalse\u001b[39;00m, showfliers\u001b[39m=\u001b[39m\u001b[39mFalse\u001b[39;00m)\n\u001b[1;32m     <a href='vscode-notebook-cell:/home/cgriesbacher/thesis/3DTrans/tools/misc/analyze_detresults_pseudolabels.ipynb#X36sZmlsZQ%3D%3D?line=36'>37</a>\u001b[0m \u001b[39m# Plotting\u001b[39;00m\n\u001b[1;32m     <a href='vscode-notebook-cell:/home/cgriesbacher/thesis/3DTrans/tools/misc/analyze_detresults_pseudolabels.ipynb#X36sZmlsZQ%3D%3D?line=37'>38</a>\u001b[0m \u001b[39m#plt.errorbar(bin_midpoints, mean_scores, yerr=std_devs, fmt='-o', capsize=5)\u001b[39;00m\n\u001b[1;32m     <a href='vscode-notebook-cell:/home/cgriesbacher/thesis/3DTrans/tools/misc/analyze_detresults_pseudolabels.ipynb#X36sZmlsZQ%3D%3D?line=38'>39</a>\u001b[0m \n\u001b[1;32m     <a href='vscode-notebook-cell:/home/cgriesbacher/thesis/3DTrans/tools/misc/analyze_detresults_pseudolabels.ipynb#X36sZmlsZQ%3D%3D?line=39'>40</a>\u001b[0m \u001b[39m# Labels and Titles\u001b[39;00m\n\u001b[1;32m     <a href='vscode-notebook-cell:/home/cgriesbacher/thesis/3DTrans/tools/misc/analyze_detresults_pseudolabels.ipynb#X36sZmlsZQ%3D%3D?line=40'>41</a>\u001b[0m plt\u001b[39m.\u001b[39mxlabel(\u001b[39m'\u001b[39m\u001b[39mDetection Range\u001b[39m\u001b[39m'\u001b[39m)\n",
      "\u001b[0;31mIndexError\u001b[0m: list index out of range"
     ]
    },
    {
     "data": {
      "image/png": "[encoded data removed]",
      "text/plain": [
       "<Figure size 1000x500 with 1 Axes>"
      ]
     },
     "metadata": {},
     "output_type": "display_data"
    }
   ],
   "source": [
    "\n",
    "df_det_vehicle = detections_vehicles\n",
    "train_datasets = df_det_vehicles['train_dataset'].unique()\n",
    "eval_datasets = df_det_vehicles['eval_dataset'].unique()\n",
    "\n",
    "plt.figure(figsize=(10, 5))\n",
    "plt.title('Detection Score per Range Bin')\n",
    "\n",
    "for dataset in eval_datasets:\n",
    "#for dataset in datasets:\n",
    "    #df = df_det_vehicles[df_det_vehicles['dataset'] == dataset]\n",
    "    df = df_det_vehicles[df_det_vehicles['eval_dataset'] == dataset]\n",
    "\n",
    "    # Define bin edges (adjust the range and bin size as needed)\n",
    "    bin_edges = np.linspace(2, 140, num=30)  # Creates 20 evenly spaced bins\n",
    "\n",
    "    # Bin the data\n",
    "    binned_indices = pd.cut(df['range'], bins=bin_edges, include_lowest=True, labels=False)\n",
    "    grouped = df.groupby(binned_indices)\n",
    "\n",
    "    # Calculate mean and standard deviation for each bin\n",
    "    mean_scores = grouped['adjusted_score'].mean()\n",
    "    std_devs = grouped['adjusted_score'].std()\n",
    "\n",
    "    # Collect scores for each bin for boxplots\n",
    "    binned_scores = [group['adjusted_score'].values for _, group in grouped]\n",
    "\n",
    "    # Midpoints of bins for plotting\n",
    "    bin_midpoints = (bin_edges[:-1] + bin_edges[1:]) / 2\n",
    "    \n",
    "    # Add boxplots\n",
    "    for i, bin_midpoint in enumerate(bin_midpoints):\n",
    "        plt.boxplot(binned_scores[i], positions=[bin_midpoint], widths=np.min(np.diff(bin_midpoints)) * 0.7, manage_ticks=False, showfliers=False)\n",
    "\n",
    "    # Plotting\n",
    "    #plt.errorbar(bin_midpoints, mean_scores, yerr=std_devs, fmt='-o', capsize=5)\n",
    "\n",
    "    # Labels and Titles\n",
    "    plt.xlabel('Detection Range')\n",
    "    plt.ylabel('Mean Detection Score')\n",
    "    #plt.title('Mean and Standard Deviation of Detection Scores per Range Bin for Dataset {}'.format(dataset))\n",
    "    plt.title('Mean and Standard Deviation of Detection Scores per Range Bin')\n",
    "    plt.grid(True)\n",
    "\n",
    "# Display the plot\n",
    "plt.legend(train_datasets)\n",
    "plt.show()\n"
   ]
  }
 ],
 "metadata": {
  "kernelspec": {
   "display_name": "3dtrans",
   "language": "python",
   "name": "python3"
  },
  "language_info": {
   "codemirror_mode": {
    "name": "ipython",
    "version": 3
   },
   "file_extension": ".py",
   "mimetype": "text/x-python",
   "name": "python",
   "nbconvert_exporter": "python",
   "pygments_lexer": "ipython3",
   "version": "3.10.13"
  }
 },
 "nbformat": 4,
 "nbformat_minor": 2
}
