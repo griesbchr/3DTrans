{
 "cells": [
  {
   "cell_type": "code",
   "execution_count": 2,
   "metadata": {},
   "outputs": [],
   "source": [
    "import pickle   \n",
    "import numpy as np\n",
    "import pandas as pd"
   ]
  },
  {
   "cell_type": "markdown",
   "metadata": {},
   "source": [
    "### ZOD infos"
   ]
  },
  {
   "cell_type": "code",
   "execution_count": 5,
   "metadata": {},
   "outputs": [
    {
     "name": "stdout",
     "output_type": "stream",
     "text": [
      "loaded 900 zod_infos\n"
     ]
    },
    {
     "ename": "KeyError",
     "evalue": "'fov_angle'",
     "output_type": "error",
     "traceback": [
      "\u001b[0;31m---------------------------------------------------------------------------\u001b[0m",
      "\u001b[0;31mKeyError\u001b[0m                                  Traceback (most recent call last)",
      "\u001b[1;32m/home/cgriesbacher/thesis/3DTrans/tools/misc/view_infos.ipynb Cell 3\u001b[0m line \u001b[0;36m1\n\u001b[1;32m      <a href='vscode-notebook-cell://ssh-remote%2B7b22686f73744e616d65223a225455475f494347227d/home/cgriesbacher/thesis/3DTrans/tools/misc/view_infos.ipynb#W2sdnNjb2RlLXJlbW90ZQ%3D%3D?line=8'>9</a>\u001b[0m fov_angles \u001b[39m=\u001b[39m []\n\u001b[1;32m     <a href='vscode-notebook-cell://ssh-remote%2B7b22686f73744e616d65223a225455475f494347227d/home/cgriesbacher/thesis/3DTrans/tools/misc/view_infos.ipynb#W2sdnNjb2RlLXJlbW90ZQ%3D%3D?line=9'>10</a>\u001b[0m \u001b[39mfor\u001b[39;00m zod_info \u001b[39min\u001b[39;00m zod_infos:\n\u001b[0;32m---> <a href='vscode-notebook-cell://ssh-remote%2B7b22686f73744e616d65223a225455475f494347227d/home/cgriesbacher/thesis/3DTrans/tools/misc/view_infos.ipynb#W2sdnNjb2RlLXJlbW90ZQ%3D%3D?line=10'>11</a>\u001b[0m     fov_angles\u001b[39m.\u001b[39mappend(zod_info[\u001b[39m'\u001b[39;49m\u001b[39mfov_angle\u001b[39;49m\u001b[39m'\u001b[39;49m])\n",
      "\u001b[0;31mKeyError\u001b[0m: 'fov_angle'"
     ]
    }
   ],
   "source": [
    "with open('../../data/zod/zod_infos_train_small.pkl', 'rb') as f:\n",
    "#with open('../../data/zod/zod_infos_train_full.pkl', 'rb') as f:\n",
    "    #store as dataframe\n",
    "    zod_infos = pickle.load(f)\n",
    "\n",
    "print('loaded', len(zod_infos), 'zod_infos')\n",
    "\n",
    "#get all fov angels\n",
    "fov_angles = []\n",
    "for zod_info in zod_infos:\n",
    "    fov_angles.append(zod_info['fov_angle'])\n",
    "\n"
   ]
  },
  {
   "cell_type": "markdown",
   "metadata": {},
   "source": [
    "### ZOD dataset"
   ]
  },
  {
   "cell_type": "code",
   "execution_count": 6,
   "metadata": {},
   "outputs": [
    {
     "data": {
      "application/vnd.jupyter.widget-view+json": {
       "model_id": "fb106b45379d4418b9d82572432845fd",
       "version_major": 2,
       "version_minor": 0
      },
      "text/plain": [
       "Loading infos: 0it [00:00, ?it/s]"
      ]
     },
     "metadata": {},
     "output_type": "display_data"
    }
   ],
   "source": [
    "from zod import ZodFrames\n",
    "from zod.constants import Camera\n",
    "\n",
    "#load zod\n",
    "root_dir = '../../data/zod/'\n",
    "frames = ZodFrames(root_dir, \"full\")"
   ]
  },
  {
   "cell_type": "code",
   "execution_count": 10,
   "metadata": {},
   "outputs": [
    {
     "name": "stdout",
     "output_type": "stream",
     "text": [
      "mean fov angle 66.95362481129119\n",
      "std fov angle 0.0\n",
      "mean hfov 120.03104621404349\n",
      "std hfov 8.526512829121202e-14\n"
     ]
    }
   ],
   "source": [
    "from zod.constants import Camera\n",
    "\n",
    "hfov_list = []\n",
    "vfov_list = []\n",
    "\n",
    "for frame in frames:\n",
    "    hfov, vfov = frames[0].calibration.cameras[Camera.FRONT].field_of_view\n",
    "    hfov_list.append(hfov)\n",
    "    vfov_list.append(vfov)\n",
    "\n",
    "#print mean and std\n",
    "print('mean fov angle', np.mean(vfov_list))\n",
    "print('std fov angle', np.std(vfov_list))\n",
    "print('mean hfov', np.mean(hfov_list))\n",
    "print('std hfov', np.std(hfov_list))\n",
    "\n"
   ]
  },
  {
   "cell_type": "markdown",
   "metadata": {},
   "source": [
    "### AVLTruck infos"
   ]
  },
  {
   "cell_type": "code",
   "execution_count": 26,
   "metadata": {},
   "outputs": [],
   "source": [
    "with open('../../data/avltruck/avl_infos_val.pkl', 'rb') as f:\n",
    "    avl_infos = pickle.load(f)"
   ]
  },
  {
   "cell_type": "code",
   "execution_count": 14,
   "metadata": {},
   "outputs": [
    {
     "data": {
      "text/plain": [
       "(15,)"
      ]
     },
     "execution_count": 14,
     "metadata": {},
     "output_type": "execute_result"
    }
   ],
   "source": [
    "avl_infos[0][\"annos\"][\"num_points_in_gt\"].shape"
   ]
  },
  {
   "cell_type": "code",
   "execution_count": 29,
   "metadata": {},
   "outputs": [],
   "source": [
    "info_list = []\n",
    "for i, info in enumerate(avl_infos):\n",
    "    if not(\"num_points_in_gt\" in info[\"annos\"].keys()):\n",
    "        print(i)\n",
    "        info_list.append(info)\n",
    "\n",
    "\n",
    "#for info in info_list:\n",
    "#    info[\"annos\"][\"num_points_in_gt\"] = np.zeros((0,), dtype=np.int32)\n",
    "#\n",
    "#with open('../../data/avltruck/avl_infos_val.pkl', 'wb') as f:\n",
    "#    pickle.dump(avl_infos, f)\n"
   ]
  },
  {
   "cell_type": "code",
   "execution_count": 16,
   "metadata": {},
   "outputs": [
    {
     "data": {
      "text/plain": [
       "(0,)"
      ]
     },
     "execution_count": 16,
     "metadata": {},
     "output_type": "execute_result"
    }
   ],
   "source": []
  }
 ],
 "metadata": {
  "kernelspec": {
   "display_name": "3dtrans",
   "language": "python",
   "name": "python3"
  },
  "language_info": {
   "codemirror_mode": {
    "name": "ipython",
    "version": 3
   },
   "file_extension": ".py",
   "mimetype": "text/x-python",
   "name": "python",
   "nbconvert_exporter": "python",
   "pygments_lexer": "ipython3",
   "version": "3.9.12"
  },
  "orig_nbformat": 4
 },
 "nbformat": 4,
 "nbformat_minor": 2
}
