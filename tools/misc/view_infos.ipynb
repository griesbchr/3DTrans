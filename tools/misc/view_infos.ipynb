{
 "cells": [
  {
   "cell_type": "code",
   "execution_count": 1,
   "metadata": {},
   "outputs": [],
   "source": [
    "import pickle   \n",
    "import numpy as np\n",
    "import pandas as pd"
   ]
  },
  {
   "cell_type": "markdown",
   "metadata": {},
   "source": [
    "### ZOD infos"
   ]
  },
  {
   "cell_type": "code",
   "execution_count": 36,
   "metadata": {},
   "outputs": [
    {
     "name": "stdout",
     "output_type": "stream",
     "text": [
      "loaded 89926 zod_infos\n"
     ]
    }
   ],
   "source": [
    "with open('../../data/zod/zod_infos_train_full.pkl', 'rb') as f:\n",
    "#with open('../../data/zod/zod_infos_train_full.pkl', 'rb') as f:\n",
    "    #store as dataframe\n",
    "    zod_infos = pickle.load(f)\n",
    "\n",
    "print('loaded', len(zod_infos), 'zod_infos')\n",
    "\n",
    "\n"
   ]
  },
  {
   "cell_type": "code",
   "execution_count": 37,
   "metadata": {},
   "outputs": [],
   "source": [
    "num_det_dict = {}\n",
    "for info in zod_infos:\n",
    "    num_det = len(info[\"annos\"][\"name\"])\n",
    "    frame_id = info[\"point_cloud\"][\"lidar_idx\"]\n",
    "    if num_det in num_det_dict:\n",
    "        num_det_dict[num_det] +=  [frame_id]\n",
    "    else:\n",
    "        num_det_dict[num_det] = [frame_id]"
   ]
  },
  {
   "cell_type": "code",
   "execution_count": 40,
   "metadata": {},
   "outputs": [
    {
     "data": {
      "text/plain": [
       "2764"
      ]
     },
     "execution_count": 40,
     "metadata": {},
     "output_type": "execute_result"
    }
   ],
   "source": [
    "len(num_det_dict[0])"
   ]
  },
  {
   "cell_type": "markdown",
   "metadata": {},
   "source": [
    "### ZOD dataset"
   ]
  },
  {
   "cell_type": "code",
   "execution_count": 6,
   "metadata": {},
   "outputs": [
    {
     "data": {
      "application/vnd.jupyter.widget-view+json": {
       "model_id": "fb106b45379d4418b9d82572432845fd",
       "version_major": 2,
       "version_minor": 0
      },
      "text/plain": [
       "Loading infos: 0it [00:00, ?it/s]"
      ]
     },
     "metadata": {},
     "output_type": "display_data"
    }
   ],
   "source": [
    "from zod import ZodFrames\n",
    "from zod.constants import Camera\n",
    "\n",
    "#load zod\n",
    "root_dir = '../../data/zod/'\n",
    "frames = ZodFrames(root_dir, \"full\")"
   ]
  },
  {
   "cell_type": "code",
   "execution_count": 10,
   "metadata": {},
   "outputs": [
    {
     "name": "stdout",
     "output_type": "stream",
     "text": [
      "mean fov angle 66.95362481129119\n",
      "std fov angle 0.0\n",
      "mean hfov 120.03104621404349\n",
      "std hfov 8.526512829121202e-14\n"
     ]
    }
   ],
   "source": [
    "from zod.constants import Camera\n",
    "\n",
    "hfov_list = []\n",
    "vfov_list = []\n",
    "\n",
    "for frame in frames:\n",
    "    hfov, vfov = frames[0].calibration.cameras[Camera.FRONT].field_of_view\n",
    "    hfov_list.append(hfov)\n",
    "    vfov_list.append(vfov)\n",
    "\n",
    "#print mean and std\n",
    "print('mean fov angle', np.mean(vfov_list))\n",
    "print('std fov angle', np.std(vfov_list))\n",
    "print('mean hfov', np.mean(hfov_list))\n",
    "print('std hfov', np.std(hfov_list))\n",
    "\n"
   ]
  },
  {
   "cell_type": "markdown",
   "metadata": {},
   "source": [
    "### AVLTruck infos"
   ]
  },
  {
   "cell_type": "code",
   "execution_count": 3,
   "metadata": {},
   "outputs": [],
   "source": [
    "with open('../../data/avltruck/avl_infos_train.pkl', 'rb') as f:\n",
    "    avl_infos = pickle.load(f)"
   ]
  },
  {
   "cell_type": "code",
   "execution_count": 22,
   "metadata": {},
   "outputs": [],
   "source": [
    "num_det_dict = {}\n",
    "for avl_info in avl_infos:\n",
    "    num_det = len(avl_info[\"annos\"][\"name\"])\n",
    "    frame_id = avl_info[\"point_cloud\"][\"lidar_idx\"]\n",
    "    if num_det in num_det_dict:\n",
    "        num_det_dict[num_det] +=  [frame_id]\n",
    "    else:\n",
    "        num_det_dict[num_det] = [frame_id]"
   ]
  },
  {
   "cell_type": "code",
   "execution_count": 26,
   "metadata": {},
   "outputs": [
    {
     "data": {
      "text/plain": [
       "['sequences/MinorRoad_dgt_2021-11-03-11-50-37_0_s0/dataset/logical_frame_000005.json',\n",
       " 'sequences/MinorRoad_dgt_2021-11-03-11-50-37_0_s0/dataset/logical_frame_000001.json',\n",
       " 'sequences/MinorRoad_dgt_2021-11-03-11-50-37_0_s0/dataset/logical_frame_000002.json',\n",
       " 'sequences/MinorRoad_dgt_2021-11-03-11-50-37_0_s0/dataset/logical_frame_000004.json',\n",
       " 'sequences/MinorRoad_dgt_2021-11-03-11-50-37_0_s0/dataset/logical_frame_000006.json',\n",
       " 'sequences/MinorRoad_dgt_2021-11-03-11-50-37_0_s0/dataset/logical_frame_000003.json',\n",
       " 'sequences/MinorRoad_dgt_2021-11-04-11-46-20_0_s0/dataset/logical_frame_000016.json',\n",
       " 'sequences/MinorRoad_dgt_2021-11-04-11-46-20_0_s0/dataset/logical_frame_000018.json',\n",
       " 'sequences/MinorRoad_dgt_2021-11-04-11-46-20_0_s0/dataset/logical_frame_000017.json',\n",
       " 'sequences/MinorRoad_dgt_2021-11-04-11-46-20_0_s0/dataset/logical_frame_000020.json',\n",
       " 'sequences/MinorRoad_dgt_2021-11-04-11-46-20_0_s0/dataset/logical_frame_000019.json',\n",
       " 'sequences/MinorRoad_dgt_2021-11-03-12-59-27_0_s0/dataset/logical_frame_000005.json',\n",
       " 'sequences/MinorRoad_dgt_2021-11-03-12-59-27_0_s0/dataset/logical_frame_000001.json',\n",
       " 'sequences/MinorRoad_dgt_2021-11-03-12-59-27_0_s0/dataset/logical_frame_000002.json',\n",
       " 'sequences/MinorRoad_dgt_2021-11-03-12-59-27_0_s0/dataset/logical_frame_000004.json',\n",
       " 'sequences/MinorRoad_dgt_2021-11-03-12-59-27_0_s0/dataset/logical_frame_000003.json',\n",
       " 'sequences/PrimaryHighway_dgt_2021-07-23-11-53-02_0_s0/dataset/logical_frame_000008.json',\n",
       " 'sequences/PrimaryHighway_dgt_2021-07-23-11-53-02_0_s0/dataset/logical_frame_000007.json',\n",
       " 'sequences/PrimaryHighway_dgt_2021-07-23-11-53-02_0_s0/dataset/logical_frame_000005.json',\n",
       " 'sequences/PrimaryHighway_dgt_2021-07-23-11-53-02_0_s0/dataset/logical_frame_000001.json',\n",
       " 'sequences/PrimaryHighway_dgt_2021-07-23-11-53-02_0_s0/dataset/logical_frame_000002.json',\n",
       " 'sequences/PrimaryHighway_dgt_2021-07-23-11-53-02_0_s0/dataset/logical_frame_000004.json',\n",
       " 'sequences/PrimaryHighway_dgt_2021-07-23-11-53-02_0_s0/dataset/logical_frame_000006.json',\n",
       " 'sequences/PrimaryHighway_dgt_2021-07-23-11-53-02_0_s0/dataset/logical_frame_000003.json',\n",
       " 'sequences/SecondaryHighway_dgt_2021-07-29-11-46-58_0_s0/dataset/logical_frame_000008.json',\n",
       " 'sequences/SecondaryHighway_dgt_2021-07-29-11-46-58_0_s0/dataset/logical_frame_000007.json',\n",
       " 'sequences/SecondaryHighway_dgt_2021-07-29-11-46-58_0_s0/dataset/logical_frame_000005.json',\n",
       " 'sequences/SecondaryHighway_dgt_2021-07-29-11-46-58_0_s0/dataset/logical_frame_000001.json',\n",
       " 'sequences/SecondaryHighway_dgt_2021-07-29-11-46-58_0_s0/dataset/logical_frame_000002.json',\n",
       " 'sequences/SecondaryHighway_dgt_2021-07-29-11-46-58_0_s0/dataset/logical_frame_000004.json',\n",
       " 'sequences/SecondaryHighway_dgt_2021-07-29-11-46-58_0_s0/dataset/logical_frame_000006.json',\n",
       " 'sequences/SecondaryHighway_dgt_2021-07-29-11-46-58_0_s0/dataset/logical_frame_000003.json']"
      ]
     },
     "execution_count": 26,
     "metadata": {},
     "output_type": "execute_result"
    }
   ],
   "source": [
    "num_det_dict[0]"
   ]
  },
  {
   "cell_type": "code",
   "execution_count": 14,
   "metadata": {},
   "outputs": [
    {
     "data": {
      "text/plain": [
       "(15,)"
      ]
     },
     "execution_count": 14,
     "metadata": {},
     "output_type": "execute_result"
    }
   ],
   "source": [
    "avl_infos[0][\"annos\"][\"num_points_in_gt\"].shape"
   ]
  },
  {
   "cell_type": "code",
   "execution_count": 29,
   "metadata": {},
   "outputs": [],
   "source": [
    "info_list = []\n",
    "for i, info in enumerate(avl_infos):\n",
    "    if not(\"num_points_in_gt\" in info[\"annos\"].keys()):\n",
    "        print(i)\n",
    "        info_list.append(info)\n",
    "\n",
    "\n",
    "#for info in info_list:\n",
    "#    info[\"annos\"][\"num_points_in_gt\"] = np.zeros((0,), dtype=np.int32)\n",
    "#\n",
    "#with open('../../data/avltruck/avl_infos_val.pkl', 'wb') as f:\n",
    "#    pickle.dump(avl_infos, f)\n"
   ]
  },
  {
   "cell_type": "markdown",
   "metadata": {},
   "source": [
    "### AVLRooftop infos"
   ]
  },
  {
   "cell_type": "code",
   "execution_count": 27,
   "metadata": {},
   "outputs": [],
   "source": [
    "with open('../../data/avlrooftop/avl_infos_train.pkl', 'rb') as f:\n",
    "    avl_infos = pickle.load(f)"
   ]
  },
  {
   "cell_type": "code",
   "execution_count": 28,
   "metadata": {},
   "outputs": [],
   "source": [
    "num_det_dict = {}\n",
    "for avl_info in avl_infos:\n",
    "    num_det = len(avl_info[\"annos\"][\"name\"])\n",
    "    frame_id = avl_info[\"point_cloud\"][\"lidar_idx\"]\n",
    "    if num_det in num_det_dict:\n",
    "        num_det_dict[num_det] +=  [frame_id]\n",
    "    else:\n",
    "        num_det_dict[num_det] = [frame_id]"
   ]
  },
  {
   "cell_type": "code",
   "execution_count": 35,
   "metadata": {},
   "outputs": [
    {
     "data": {
      "text/plain": [
       "['sequences/INTERURBAN_Normal_road_20200519092930_1/unpacked/lidar/0001.pkl',\n",
       " 'sequences/INTERURBAN_Normal_road_20200519092930_1/unpacked/lidar/0002.pkl',\n",
       " 'sequences/INTERURBAN_Normal_roundabout_20200505103638/unpacked/lidar/0023.pkl',\n",
       " 'sequences/INTERURBAN_Normal_roundabout_20200505103638/unpacked/lidar/0026.pkl',\n",
       " 'sequences/INTERURBAN_Normal_roundabout_20200505103638/unpacked/lidar/0019.pkl',\n",
       " 'sequences/INTERURBAN_Normal_roundabout_20200505103638/unpacked/lidar/0025.pkl',\n",
       " 'sequences/INTERURBAN_Normal_roundabout_20200505103638/unpacked/lidar/0021.pkl',\n",
       " 'sequences/INTERURBAN_Normal_roundabout_20200505103638/unpacked/lidar/0027.pkl',\n",
       " 'sequences/INTERURBAN_Normal_roundabout_20200505103638/unpacked/lidar/0028.pkl',\n",
       " 'sequences/INTERURBAN_Normal_roundabout_20200505103638/unpacked/lidar/0029.pkl',\n",
       " 'sequences/INTERURBAN_Normal_roundabout_20200505103638/unpacked/lidar/0022.pkl',\n",
       " 'sequences/INTERURBAN_Normal_roundabout_20200505103638/unpacked/lidar/0024.pkl',\n",
       " 'sequences/INTERURBAN_Normal_roundabout_20200505103638/unpacked/lidar/0020.pkl',\n",
       " 'sequences/INTERURBAN_Normal_roundabout_20200505103638/unpacked/lidar/0030.pkl']"
      ]
     },
     "execution_count": 35,
     "metadata": {},
     "output_type": "execute_result"
    }
   ],
   "source": [
    "num_det_dict[1]"
   ]
  }
 ],
 "metadata": {
  "kernelspec": {
   "display_name": "3dtrans",
   "language": "python",
   "name": "python3"
  },
  "language_info": {
   "codemirror_mode": {
    "name": "ipython",
    "version": 3
   },
   "file_extension": ".py",
   "mimetype": "text/x-python",
   "name": "python",
   "nbconvert_exporter": "python",
   "pygments_lexer": "ipython3",
   "version": "3.10.13"
  },
  "orig_nbformat": 4
 },
 "nbformat": 4,
 "nbformat_minor": 2
}
